{
  "nbformat": 4,
  "nbformat_minor": 0,
  "metadata": {
    "colab": {
      "name": "01-tensor-operations.ipynb",
      "provenance": [],
      "include_colab_link": true
    },
    "kernelspec": {
      "display_name": "Python 3",
      "language": "python",
      "name": "python3"
    },
    "language_info": {
      "codemirror_mode": {
        "name": "ipython",
        "version": 3
      },
      "file_extension": ".py",
      "mimetype": "text/x-python",
      "name": "python",
      "nbconvert_exporter": "python",
      "pygments_lexer": "ipython3",
      "version": "3.8.5"
    }
  },
  "cells": [
    {
      "cell_type": "markdown",
      "metadata": {
        "id": "view-in-github",
        "colab_type": "text"
      },
      "source": [
        "<a href=\"https://colab.research.google.com/github/debasish-dutta/DL-with-Pytorch/blob/master/01_tensor_operations.ipynb\" target=\"_parent\"><img src=\"https://colab.research.google.com/assets/colab-badge.svg\" alt=\"Open In Colab\"/></a>"
      ]
    },
    {
      "cell_type": "code",
      "metadata": {
        "id": "srxO8EmXusbJ"
      },
      "source": [
        "# Jovian Commit Essentials\n",
        "# Please retain and execute this cell without modifying the contents for `jovian.commit` to work\n",
        "!pip install jovian --upgrade -q\n",
        "import jovian\n",
        "jovian.utils.colab.set_colab_file_id('1AXMy2DWMF0vtTtMsNN81_aNG2QOqQXEb')"
      ],
      "execution_count": null,
      "outputs": []
    },
    {
      "cell_type": "markdown",
      "metadata": {
        "id": "UA7xRVD9guED"
      },
      "source": [
        "# 5 interesting torch functions\n",
        "\n",
        "An short introduction about PyTorch and about the chosen functions. \n",
        "\n",
        "- torch.arange\n",
        "- torch.logspace\n",
        "- torch.cat\n",
        "- torch.reshape\n",
        "- torch.normal\n",
        "\n",
        "Before we begin, let's install and import PyTorch"
      ]
    },
    {
      "cell_type": "code",
      "metadata": {
        "id": "u45wXdYCguEI"
      },
      "source": [
        "# Import torch and other required modules\n",
        "import torch"
      ],
      "execution_count": null,
      "outputs": []
    },
    {
      "cell_type": "markdown",
      "metadata": {
        "id": "JBVn69pWguEJ"
      },
      "source": [
        "## Function 1 - torch.range\n",
        "\n",
        "torch.range(start=0, end, step=1, *, out=None, dtype=None, layout=torch.strided, device=None, requires_grad=False) → Tensor\n",
        "\n",
        "Returns a 1-D tensor of size [start-end/step] + 1 "
      ]
    },
    {
      "cell_type": "code",
      "metadata": {
        "colab": {
          "base_uri": "https://localhost:8080/"
        },
        "id": "IeJd5rO6guEK",
        "outputId": "8defbc2e-3ef3-4996-d3eb-bb1c01600e5c"
      },
      "source": [
        "t1 = torch.arange(1, 5)\n",
        "t1"
      ],
      "execution_count": null,
      "outputs": [
        {
          "output_type": "execute_result",
          "data": {
            "text/plain": [
              "tensor([1, 2, 3, 4])"
            ]
          },
          "metadata": {
            "tags": []
          },
          "execution_count": 6
        }
      ]
    },
    {
      "cell_type": "markdown",
      "metadata": {
        "id": "O6vjSqSTguEN"
      },
      "source": [
        "Explanation about example"
      ]
    },
    {
      "cell_type": "code",
      "metadata": {
        "colab": {
          "base_uri": "https://localhost:8080/"
        },
        "id": "JRETwST3guEO",
        "outputId": "6ae57146-a5ba-483d-d3f7-39bb9ae305de"
      },
      "source": [
        "t2 = torch.arange(1, 10, 2)\r\n",
        "t2"
      ],
      "execution_count": null,
      "outputs": [
        {
          "output_type": "execute_result",
          "data": {
            "text/plain": [
              "tensor([1, 3, 5, 7, 9])"
            ]
          },
          "metadata": {
            "tags": []
          },
          "execution_count": 9
        }
      ]
    },
    {
      "cell_type": "markdown",
      "metadata": {
        "id": "SOQWpVp0guEO"
      },
      "source": [
        "Explanation about example"
      ]
    },
    {
      "cell_type": "code",
      "metadata": {
        "colab": {
          "base_uri": "https://localhost:8080/",
          "height": 180
        },
        "id": "Q45nBv8cguEP",
        "outputId": "545ed811-bc4c-4e7a-aeac-7a9f62ef36fe"
      },
      "source": [
        "# Example 3 - breaking (to illustrate when it breaks)\n",
        "torch.arange(10, 2, 2)"
      ],
      "execution_count": null,
      "outputs": [
        {
          "output_type": "error",
          "ename": "RuntimeError",
          "evalue": "ignored",
          "traceback": [
            "\u001b[0;31m---------------------------------------------------------------------------\u001b[0m",
            "\u001b[0;31mRuntimeError\u001b[0m                              Traceback (most recent call last)",
            "\u001b[0;32m<ipython-input-11-dca5526eb531>\u001b[0m in \u001b[0;36m<module>\u001b[0;34m()\u001b[0m\n\u001b[1;32m      1\u001b[0m \u001b[0;31m# Example 3 - breaking (to illustrate when it breaks)\u001b[0m\u001b[0;34m\u001b[0m\u001b[0;34m\u001b[0m\u001b[0;34m\u001b[0m\u001b[0m\n\u001b[0;32m----> 2\u001b[0;31m \u001b[0mtorch\u001b[0m\u001b[0;34m.\u001b[0m\u001b[0marange\u001b[0m\u001b[0;34m(\u001b[0m\u001b[0;36m10\u001b[0m\u001b[0;34m,\u001b[0m \u001b[0;36m2\u001b[0m\u001b[0;34m,\u001b[0m \u001b[0;36m2\u001b[0m\u001b[0;34m)\u001b[0m\u001b[0;34m\u001b[0m\u001b[0;34m\u001b[0m\u001b[0m\n\u001b[0m",
            "\u001b[0;31mRuntimeError\u001b[0m: upper bound and larger bound inconsistent with step sign"
          ]
        }
      ]
    },
    {
      "cell_type": "markdown",
      "metadata": {
        "id": "CasxiEbQguEP"
      },
      "source": [
        "Explanation about example"
      ]
    },
    {
      "cell_type": "markdown",
      "metadata": {
        "id": "Wzch21N8guEQ"
      },
      "source": [
        "Closing comments about when to use this function\r\n",
        "This function is particularly helpfull when creating a tensor using the same funtionality as python range function."
      ]
    },
    {
      "cell_type": "markdown",
      "metadata": {
        "id": "B4Exjvj_guEQ"
      },
      "source": [
        "Let's save our work using Jovian before continuing."
      ]
    },
    {
      "cell_type": "code",
      "metadata": {
        "id": "AKxjlD9NguER"
      },
      "source": [
        "!pip install jovian --upgrade --quiet"
      ],
      "execution_count": null,
      "outputs": []
    },
    {
      "cell_type": "code",
      "metadata": {
        "id": "vpIsNSv1guER"
      },
      "source": [
        "import jovian"
      ],
      "execution_count": null,
      "outputs": []
    },
    {
      "cell_type": "code",
      "metadata": {
        "colab": {
          "base_uri": "https://localhost:8080/",
          "height": 137
        },
        "id": "vfK848NeguES",
        "outputId": "3dec8de0-3501-4b5d-aa07-5ad67b0c2961"
      },
      "source": [
        "jovian.commit(project='01-tensor-operations')"
      ],
      "execution_count": null,
      "outputs": [
        {
          "output_type": "stream",
          "text": [
            "[jovian] Detected Colab notebook...\u001b[0m\n",
            "[jovian] Please enter your API key ( from https://jovian.ai/ ):\u001b[0m\n",
            "API KEY: ··········\n",
            "[jovian] Uploading colab notebook to Jovian...\u001b[0m\n",
            "[jovian] Capturing environment..\u001b[0m\n",
            "[jovian] Committed successfully! https://jovian.ai/ddmasterdon/01-tensor-operations\u001b[0m\n"
          ],
          "name": "stdout"
        },
        {
          "output_type": "execute_result",
          "data": {
            "application/vnd.google.colaboratory.intrinsic+json": {
              "type": "string"
            },
            "text/plain": [
              "'https://jovian.ai/ddmasterdon/01-tensor-operations'"
            ]
          },
          "metadata": {
            "tags": []
          },
          "execution_count": 14
        }
      ]
    },
    {
      "cell_type": "markdown",
      "metadata": {
        "id": "WbfxeW6DguES"
      },
      "source": [
        "## Function 2 - torch.logspace\n",
        "\n",
        "torch.logspace(start, end, steps, base=10.0, *, out=None, dtype=None, layout=torch.strided, device=None, requires_grad=False) → Tensor\n",
        "\n",
        "Creates a one-dimensional tensor of size steps whose values are evenly spaced from base(start) to base(end) , inclusive, on a logarithmic scale with base(base)"
      ]
    },
    {
      "cell_type": "code",
      "metadata": {
        "colab": {
          "base_uri": "https://localhost:8080/"
        },
        "id": "Fc7yzoy2guET",
        "outputId": "d62444a8-c157-48b3-f233-4a619c84110d"
      },
      "source": [
        "# Example 1 - working\r\n",
        "t4 = torch.logspace(-10, 10, 5)\r\n",
        "t4"
      ],
      "execution_count": null,
      "outputs": [
        {
          "output_type": "execute_result",
          "data": {
            "text/plain": [
              "tensor([1.0000e-10, 1.0000e-05, 1.0000e+00, 1.0000e+05, 1.0000e+10])"
            ]
          },
          "metadata": {
            "tags": []
          },
          "execution_count": 15
        }
      ]
    },
    {
      "cell_type": "markdown",
      "metadata": {
        "id": "SJ4_L6RrguET"
      },
      "source": [
        "Explanation about example"
      ]
    },
    {
      "cell_type": "code",
      "metadata": {
        "colab": {
          "base_uri": "https://localhost:8080/"
        },
        "id": "tP1KsgEbguET",
        "outputId": "11a81da6-8473-4d7f-fb91-17599dc27e3c"
      },
      "source": [
        "# Example 2 - working\r\n",
        "t5 = torch.logspace(0.1, 1.0, 5)\r\n",
        "t5"
      ],
      "execution_count": null,
      "outputs": [
        {
          "output_type": "execute_result",
          "data": {
            "text/plain": [
              "tensor([ 1.2589,  2.1135,  3.5481,  5.9566, 10.0000])"
            ]
          },
          "metadata": {
            "tags": []
          },
          "execution_count": 16
        }
      ]
    },
    {
      "cell_type": "markdown",
      "metadata": {
        "id": "EZhH1EC4guEU"
      },
      "source": [
        "Explanation about example"
      ]
    },
    {
      "cell_type": "code",
      "metadata": {
        "colab": {
          "base_uri": "https://localhost:8080/"
        },
        "id": "nZantU3KguEc",
        "outputId": "255f3694-86b2-4527-8412-f68e39299428"
      },
      "source": [
        "# Example 3 - breaking (to illustrate when it breaks)\r\n",
        "torch.logspace(10, 0)"
      ],
      "execution_count": null,
      "outputs": [
        {
          "output_type": "execute_result",
          "data": {
            "text/plain": [
              "tensor([1.0000e+10, 7.9248e+09, 6.2803e+09, 4.9770e+09, 3.9442e+09, 3.1257e+09,\n",
              "        2.4771e+09, 1.9630e+09, 1.5557e+09, 1.2328e+09, 9.7701e+08, 7.7426e+08,\n",
              "        6.1359e+08, 4.8626e+08, 3.8535e+08, 3.0539e+08, 2.4201e+08, 1.9179e+08,\n",
              "        1.5199e+08, 1.2045e+08, 9.5455e+07, 7.5646e+07, 5.9948e+07, 4.7508e+07,\n",
              "        3.7649e+07, 2.9836e+07, 2.3645e+07, 1.8738e+07, 1.4850e+07, 1.1768e+07,\n",
              "        9.3260e+06, 7.3907e+06, 5.8570e+06, 4.6416e+06, 3.6784e+06, 2.9151e+06,\n",
              "        2.3101e+06, 1.8307e+06, 1.4508e+06, 1.1498e+06, 9.1116e+05, 7.2208e+05,\n",
              "        5.7224e+05, 4.5349e+05, 3.5938e+05, 2.8480e+05, 2.2570e+05, 1.7886e+05,\n",
              "        1.4175e+05, 1.1233e+05, 8.9022e+04, 7.0548e+04, 5.5908e+04, 4.4306e+04,\n",
              "        3.5112e+04, 2.7826e+04, 2.2051e+04, 1.7475e+04, 1.3849e+04, 1.0975e+04,\n",
              "        8.6975e+03, 6.8926e+03, 5.4623e+03, 4.3288e+03, 3.4305e+03, 2.7186e+03,\n",
              "        2.1544e+03, 1.7074e+03, 1.3530e+03, 1.0723e+03, 8.4975e+02, 6.7342e+02,\n",
              "        5.3367e+02, 4.2292e+02, 3.3516e+02, 2.6561e+02, 2.1049e+02, 1.6681e+02,\n",
              "        1.3219e+02, 1.0476e+02, 8.3022e+01, 6.5793e+01, 5.2140e+01, 4.1320e+01,\n",
              "        3.2745e+01, 2.5950e+01, 2.0565e+01, 1.6298e+01, 1.2915e+01, 1.0235e+01,\n",
              "        8.1113e+00, 6.4281e+00, 5.0941e+00, 4.0370e+00, 3.1993e+00, 2.5354e+00,\n",
              "        2.0092e+00, 1.5923e+00, 1.2619e+00, 1.0000e+00])"
            ]
          },
          "metadata": {
            "tags": []
          },
          "execution_count": 19
        }
      ]
    },
    {
      "cell_type": "markdown",
      "metadata": {
        "id": "Q6R-V_IhguEd"
      },
      "source": [
        "Explanation about example"
      ]
    },
    {
      "cell_type": "markdown",
      "metadata": {
        "id": "6W_944EgguEd"
      },
      "source": [
        "Closing comments about when to use this function\r\n",
        "\r\n",
        "This function is used to create torch arrays when the elements are needed to be logarithmicly spaced inbetween.\r\n",
        "\r\n"
      ]
    },
    {
      "cell_type": "code",
      "metadata": {
        "colab": {
          "base_uri": "https://localhost:8080/",
          "height": 103
        },
        "id": "5fg5EeooguEe",
        "outputId": "a4f43b93-a0ae-4594-c1b5-7a64a3e4d494"
      },
      "source": [
        "jovian.commit(project='01-tensor-operations')"
      ],
      "execution_count": null,
      "outputs": [
        {
          "output_type": "stream",
          "text": [
            "[jovian] Detected Colab notebook...\u001b[0m\n",
            "[jovian] Uploading colab notebook to Jovian...\u001b[0m\n",
            "[jovian] Capturing environment..\u001b[0m\n",
            "[jovian] Committed successfully! https://jovian.ai/ddmasterdon/01-tensor-operations\u001b[0m\n"
          ],
          "name": "stdout"
        },
        {
          "output_type": "execute_result",
          "data": {
            "application/vnd.google.colaboratory.intrinsic+json": {
              "type": "string"
            },
            "text/plain": [
              "'https://jovian.ai/ddmasterdon/01-tensor-operations'"
            ]
          },
          "metadata": {
            "tags": []
          },
          "execution_count": 20
        }
      ]
    },
    {
      "cell_type": "markdown",
      "metadata": {
        "id": "84aOPGURguEf"
      },
      "source": [
        "## Function 3 - torch.cat\n",
        "\n",
        "torch.cat(tensors, dim=0, *, out=None) → Tensor\n",
        "\n",
        "Concatenates the given sequence of `seq` tensors in the given dimension."
      ]
    },
    {
      "cell_type": "code",
      "metadata": {
        "colab": {
          "base_uri": "https://localhost:8080/"
        },
        "id": "5aRNZaqtguEf",
        "outputId": "d6b851c9-5008-4463-8a98-5db5923b514f"
      },
      "source": [
        "# Example 1 - working\r\n",
        "x = torch.randn(2,3)\r\n",
        "t7 = torch.cat((x, x, x), 1)\r\n",
        "t7"
      ],
      "execution_count": null,
      "outputs": [
        {
          "output_type": "execute_result",
          "data": {
            "text/plain": [
              "tensor([[ 0.1392,  0.3485,  0.3953,  0.1392,  0.3485,  0.3953,  0.1392,  0.3485,\n",
              "          0.3953],\n",
              "        [ 1.1192, -0.4694, -2.2480,  1.1192, -0.4694, -2.2480,  1.1192, -0.4694,\n",
              "         -2.2480]])"
            ]
          },
          "metadata": {
            "tags": []
          },
          "execution_count": 26
        }
      ]
    },
    {
      "cell_type": "markdown",
      "metadata": {
        "id": "JZz2QFe9guEf"
      },
      "source": [
        "Explanation about example"
      ]
    },
    {
      "cell_type": "code",
      "metadata": {
        "colab": {
          "base_uri": "https://localhost:8080/"
        },
        "id": "7e7q1Kv3guEg",
        "outputId": "93f83789-8a87-4991-f2b3-78cf6ac0e214"
      },
      "source": [
        "# Example 2 - working\r\n",
        "y = torch.ones(2, 3)\r\n",
        "z = torch.zeros(2, 3)\r\n",
        "t8 = torch.cat((y, z, y, z), 1)\r\n",
        "t8"
      ],
      "execution_count": null,
      "outputs": [
        {
          "output_type": "execute_result",
          "data": {
            "text/plain": [
              "tensor([[1., 1., 1., 0., 0., 0., 1., 1., 1., 0., 0., 0.],\n",
              "        [1., 1., 1., 0., 0., 0., 1., 1., 1., 0., 0., 0.]])"
            ]
          },
          "metadata": {
            "tags": []
          },
          "execution_count": 27
        }
      ]
    },
    {
      "cell_type": "markdown",
      "metadata": {
        "id": "ZXCvN65-guEg"
      },
      "source": [
        "Explanation about example"
      ]
    },
    {
      "cell_type": "code",
      "metadata": {
        "colab": {
          "base_uri": "https://localhost:8080/",
          "height": 180
        },
        "id": "pX4jAvk2guEh",
        "outputId": "372f74c7-a3aa-434c-c4fa-19377b4eda3c"
      },
      "source": [
        "# Example 3 - breaking (to illustrate when it breaks)\r\n",
        "torch.cat((x, y), 2)"
      ],
      "execution_count": null,
      "outputs": [
        {
          "output_type": "error",
          "ename": "IndexError",
          "evalue": "ignored",
          "traceback": [
            "\u001b[0;31m---------------------------------------------------------------------------\u001b[0m",
            "\u001b[0;31mIndexError\u001b[0m                                Traceback (most recent call last)",
            "\u001b[0;32m<ipython-input-28-f31eeb539e9e>\u001b[0m in \u001b[0;36m<module>\u001b[0;34m()\u001b[0m\n\u001b[1;32m      1\u001b[0m \u001b[0;31m# Example 3 - breaking (to illustrate when it breaks)\u001b[0m\u001b[0;34m\u001b[0m\u001b[0;34m\u001b[0m\u001b[0;34m\u001b[0m\u001b[0m\n\u001b[0;32m----> 2\u001b[0;31m \u001b[0mtorch\u001b[0m\u001b[0;34m.\u001b[0m\u001b[0mcat\u001b[0m\u001b[0;34m(\u001b[0m\u001b[0;34m(\u001b[0m\u001b[0mx\u001b[0m\u001b[0;34m,\u001b[0m \u001b[0my\u001b[0m\u001b[0;34m)\u001b[0m\u001b[0;34m,\u001b[0m \u001b[0;36m2\u001b[0m\u001b[0;34m)\u001b[0m\u001b[0;34m\u001b[0m\u001b[0;34m\u001b[0m\u001b[0m\n\u001b[0m",
            "\u001b[0;31mIndexError\u001b[0m: Dimension out of range (expected to be in range of [-2, 1], but got 2)"
          ]
        }
      ]
    },
    {
      "cell_type": "markdown",
      "metadata": {
        "id": "oQDgxUQIguEi"
      },
      "source": [
        "This functions accepts a dimension of -2 to 1"
      ]
    },
    {
      "cell_type": "markdown",
      "metadata": {
        "id": "yAoJz_38guEi"
      },
      "source": [
        "Closing comments about when to use this function\r\n",
        "\r\n",
        "This function is great while joining to or more tensors when the required dimension is inbetween 0 and 1"
      ]
    },
    {
      "cell_type": "code",
      "metadata": {
        "colab": {
          "base_uri": "https://localhost:8080/",
          "height": 103
        },
        "id": "6JcYnGBlguEj",
        "outputId": "96026a9e-327f-421a-ce72-b7b52dda2b15"
      },
      "source": [
        "jovian.commit(project='01-tensor-operations')"
      ],
      "execution_count": null,
      "outputs": [
        {
          "output_type": "stream",
          "text": [
            "[jovian] Detected Colab notebook...\u001b[0m\n",
            "[jovian] Uploading colab notebook to Jovian...\u001b[0m\n",
            "[jovian] Capturing environment..\u001b[0m\n",
            "[jovian] Committed successfully! https://jovian.ai/ddmasterdon/01-tensor-operations\u001b[0m\n"
          ],
          "name": "stdout"
        },
        {
          "output_type": "execute_result",
          "data": {
            "application/vnd.google.colaboratory.intrinsic+json": {
              "type": "string"
            },
            "text/plain": [
              "'https://jovian.ai/ddmasterdon/01-tensor-operations'"
            ]
          },
          "metadata": {
            "tags": []
          },
          "execution_count": 29
        }
      ]
    },
    {
      "cell_type": "markdown",
      "metadata": {
        "id": "kyUfoJjcguEk"
      },
      "source": [
        "## Function 4 - torch.reshape\n",
        "\n",
        "torch.reshape(input, shape) → Tensor\n",
        "\n",
        "Returns a tensor with the same data and number of elements as `input`, but with the specified shape. When possible, the returned tensor will be a view of `input`."
      ]
    },
    {
      "cell_type": "code",
      "metadata": {
        "colab": {
          "base_uri": "https://localhost:8080/"
        },
        "id": "ArWhcSzFguEs",
        "outputId": "ff83ece9-79b5-4a1c-9c6f-f4f719bf22d8"
      },
      "source": [
        "# Example 1 - working\r\n",
        "a = torch.arange(4.)\r\n",
        "torch.reshape(a, (2, 2))"
      ],
      "execution_count": null,
      "outputs": [
        {
          "output_type": "execute_result",
          "data": {
            "text/plain": [
              "tensor([[0., 1.],\n",
              "        [2., 3.]])"
            ]
          },
          "metadata": {
            "tags": []
          },
          "execution_count": 30
        }
      ]
    },
    {
      "cell_type": "markdown",
      "metadata": {
        "id": "kaCU8tLBguEt"
      },
      "source": [
        "Explanation about example"
      ]
    },
    {
      "cell_type": "code",
      "metadata": {
        "colab": {
          "base_uri": "https://localhost:8080/"
        },
        "id": "jtOpmySFguEt",
        "outputId": "addd445f-cb7c-4668-9aec-d0986c94760f"
      },
      "source": [
        "# Example 2 - working\r\n",
        "b = torch.zeros(2, 9)\r\n",
        "b.reshape(2, 3, 3)"
      ],
      "execution_count": null,
      "outputs": [
        {
          "output_type": "execute_result",
          "data": {
            "text/plain": [
              "tensor([[[0., 0., 0.],\n",
              "         [0., 0., 0.],\n",
              "         [0., 0., 0.]],\n",
              "\n",
              "        [[0., 0., 0.],\n",
              "         [0., 0., 0.],\n",
              "         [0., 0., 0.]]])"
            ]
          },
          "metadata": {
            "tags": []
          },
          "execution_count": 34
        }
      ]
    },
    {
      "cell_type": "markdown",
      "metadata": {
        "id": "l606_sWkguEu"
      },
      "source": [
        "Explanation about example"
      ]
    },
    {
      "cell_type": "code",
      "metadata": {
        "colab": {
          "base_uri": "https://localhost:8080/",
          "height": 197
        },
        "id": "t5-TTy7MguEu",
        "outputId": "74f669ec-a12e-4058-fe53-5520958d3599"
      },
      "source": [
        "# Example 3 - breaking (to illustrate when it breaks)\r\n",
        "c = torch.ones(4, 7)\r\n",
        "c.reshape(2, 3, 3)"
      ],
      "execution_count": null,
      "outputs": [
        {
          "output_type": "error",
          "ename": "RuntimeError",
          "evalue": "ignored",
          "traceback": [
            "\u001b[0;31m---------------------------------------------------------------------------\u001b[0m",
            "\u001b[0;31mRuntimeError\u001b[0m                              Traceback (most recent call last)",
            "\u001b[0;32m<ipython-input-35-3b5f0dcc7b35>\u001b[0m in \u001b[0;36m<module>\u001b[0;34m()\u001b[0m\n\u001b[1;32m      1\u001b[0m \u001b[0;31m# Example 3 - breaking (to illustrate when it breaks)\u001b[0m\u001b[0;34m\u001b[0m\u001b[0;34m\u001b[0m\u001b[0;34m\u001b[0m\u001b[0m\n\u001b[1;32m      2\u001b[0m \u001b[0mc\u001b[0m \u001b[0;34m=\u001b[0m \u001b[0mtorch\u001b[0m\u001b[0;34m.\u001b[0m\u001b[0mones\u001b[0m\u001b[0;34m(\u001b[0m\u001b[0;36m4\u001b[0m\u001b[0;34m,\u001b[0m \u001b[0;36m7\u001b[0m\u001b[0;34m)\u001b[0m\u001b[0;34m\u001b[0m\u001b[0;34m\u001b[0m\u001b[0m\n\u001b[0;32m----> 3\u001b[0;31m \u001b[0mc\u001b[0m\u001b[0;34m.\u001b[0m\u001b[0mreshape\u001b[0m\u001b[0;34m(\u001b[0m\u001b[0;36m2\u001b[0m\u001b[0;34m,\u001b[0m \u001b[0;36m3\u001b[0m\u001b[0;34m,\u001b[0m \u001b[0;36m3\u001b[0m\u001b[0;34m)\u001b[0m\u001b[0;34m\u001b[0m\u001b[0;34m\u001b[0m\u001b[0m\n\u001b[0m",
            "\u001b[0;31mRuntimeError\u001b[0m: shape '[2, 3, 3]' is invalid for input of size 28"
          ]
        }
      ]
    },
    {
      "cell_type": "markdown",
      "metadata": {
        "id": "Ich2A9B4guEv"
      },
      "source": [
        "Explanation about example\r\n",
        "\r\n",
        "Shapes should match"
      ]
    },
    {
      "cell_type": "markdown",
      "metadata": {
        "id": "-BkaTBg_guEv"
      },
      "source": [
        "Closing comments about when to use this function\r\n",
        "\r\n",
        "This function is great in reshaping tensors"
      ]
    },
    {
      "cell_type": "code",
      "metadata": {
        "colab": {
          "base_uri": "https://localhost:8080/",
          "height": 103
        },
        "id": "j5XZXlG5guEw",
        "outputId": "9c8088d0-6ba7-402d-a4bc-30311c3d5fd1"
      },
      "source": [
        "jovian.commit(project='01-tensor-operations')"
      ],
      "execution_count": null,
      "outputs": [
        {
          "output_type": "stream",
          "text": [
            "[jovian] Detected Colab notebook...\u001b[0m\n",
            "[jovian] Uploading colab notebook to Jovian...\u001b[0m\n",
            "[jovian] Capturing environment..\u001b[0m\n",
            "[jovian] Committed successfully! https://jovian.ai/ddmasterdon/01-tensor-operations\u001b[0m\n"
          ],
          "name": "stdout"
        },
        {
          "output_type": "execute_result",
          "data": {
            "application/vnd.google.colaboratory.intrinsic+json": {
              "type": "string"
            },
            "text/plain": [
              "'https://jovian.ai/ddmasterdon/01-tensor-operations'"
            ]
          },
          "metadata": {
            "tags": []
          },
          "execution_count": 36
        }
      ]
    },
    {
      "cell_type": "markdown",
      "metadata": {
        "id": "zP5lz7YSguEw"
      },
      "source": [
        "## Function 5 - torch.normal\n",
        "\n",
        "torch.normal(mean, std, *, generator=None, out=None) → Tensor\n",
        "\n",
        "Returns a tensor of random numbers drawn from separate normal distributions whose mean and standard deviation are given."
      ]
    },
    {
      "cell_type": "code",
      "metadata": {
        "colab": {
          "base_uri": "https://localhost:8080/"
        },
        "id": "2xRp97tmguE0",
        "outputId": "e3ad46ee-5389-4fc6-806a-0b772ce70723"
      },
      "source": [
        "# Example 1 - working\r\n",
        "torch.normal(mean=torch.arange(1., 11.), std=torch.arange(1, 0, -0.1))"
      ],
      "execution_count": null,
      "outputs": [
        {
          "output_type": "execute_result",
          "data": {
            "text/plain": [
              "tensor([ 0.2759,  2.2800,  4.1324,  4.5404,  5.8416,  5.2365,  7.4910,  7.8157,\n",
              "         9.1654, 10.0829])"
            ]
          },
          "metadata": {
            "tags": []
          },
          "execution_count": 37
        }
      ]
    },
    {
      "cell_type": "code",
      "metadata": {
        "colab": {
          "base_uri": "https://localhost:8080/"
        },
        "id": "vkn9-NxPguE8",
        "outputId": "2a173338-f95c-4905-91c1-8fe69fd01f97"
      },
      "source": [
        "# Example 2 - working\r\n",
        "torch.normal(torch.arange(1., 21.), torch.arange(2.,4., 0.1))"
      ],
      "execution_count": null,
      "outputs": [
        {
          "output_type": "execute_result",
          "data": {
            "text/plain": [
              "tensor([ 0.9215,  2.3606,  3.7136,  6.5101,  5.5224,  6.6937,  3.7683,  8.1205,\n",
              "         7.1825, 11.4267,  9.9075,  7.0138, 10.4722, 15.0258, 19.0669, 26.1746,\n",
              "        22.2663, 15.5832, 14.9466, 17.4243])"
            ]
          },
          "metadata": {
            "tags": []
          },
          "execution_count": 41
        }
      ]
    },
    {
      "cell_type": "code",
      "metadata": {
        "colab": {
          "base_uri": "https://localhost:8080/",
          "height": 197
        },
        "id": "Ed2SGJAJguE-",
        "outputId": "8cd75500-ebb6-44c5-ea9d-ae8ed8aa28b8"
      },
      "source": [
        "# Example 3 - breaking (to illustrate when it breaks)\r\n",
        "torch.normal(torch.arange(1., 11.), torch.arange(2.,4., 0.1))"
      ],
      "execution_count": null,
      "outputs": [
        {
          "output_type": "error",
          "ename": "RuntimeError",
          "evalue": "ignored",
          "traceback": [
            "\u001b[0;31m---------------------------------------------------------------------------\u001b[0m",
            "\u001b[0;31mRuntimeError\u001b[0m                              Traceback (most recent call last)",
            "\u001b[0;32m<ipython-input-42-7ba5df39f4cd>\u001b[0m in \u001b[0;36m<module>\u001b[0;34m()\u001b[0m\n\u001b[1;32m      1\u001b[0m \u001b[0;31m# Example 3 - breaking (to illustrate when it breaks)\u001b[0m\u001b[0;34m\u001b[0m\u001b[0;34m\u001b[0m\u001b[0;34m\u001b[0m\u001b[0m\n\u001b[0;32m----> 2\u001b[0;31m \u001b[0mtorch\u001b[0m\u001b[0;34m.\u001b[0m\u001b[0mnormal\u001b[0m\u001b[0;34m(\u001b[0m\u001b[0mtorch\u001b[0m\u001b[0;34m.\u001b[0m\u001b[0marange\u001b[0m\u001b[0;34m(\u001b[0m\u001b[0;36m1.\u001b[0m\u001b[0;34m,\u001b[0m \u001b[0;36m11.\u001b[0m\u001b[0;34m)\u001b[0m\u001b[0;34m,\u001b[0m \u001b[0mtorch\u001b[0m\u001b[0;34m.\u001b[0m\u001b[0marange\u001b[0m\u001b[0;34m(\u001b[0m\u001b[0;36m2.\u001b[0m\u001b[0;34m,\u001b[0m\u001b[0;36m4.\u001b[0m\u001b[0;34m,\u001b[0m \u001b[0;36m0.1\u001b[0m\u001b[0;34m)\u001b[0m\u001b[0;34m)\u001b[0m\u001b[0;34m\u001b[0m\u001b[0;34m\u001b[0m\u001b[0m\n\u001b[0m",
            "\u001b[0;31mRuntimeError\u001b[0m: inconsistent tensor, std and mean are not broadcastable and have different number of elements, expected mean [10] and std [20] to have same number of elements)"
          ]
        }
      ]
    },
    {
      "cell_type": "markdown",
      "metadata": {
        "id": "b-Cn-tYIguE_"
      },
      "source": [
        "Explanation about example\r\n",
        "\r\n",
        "Input shapes of mean and standard deviation sould match"
      ]
    },
    {
      "cell_type": "code",
      "metadata": {
        "colab": {
          "base_uri": "https://localhost:8080/",
          "height": 103
        },
        "id": "A5ixZDT7guE_",
        "outputId": "bd059a9c-1fb5-4fc9-9fb9-075d85471ed0"
      },
      "source": [
        "jovian.commit(project='01-tensor-operations')"
      ],
      "execution_count": null,
      "outputs": [
        {
          "output_type": "stream",
          "text": [
            "[jovian] Detected Colab notebook...\u001b[0m\n",
            "[jovian] Uploading colab notebook to Jovian...\u001b[0m\n",
            "[jovian] Capturing environment..\u001b[0m\n",
            "[jovian] Committed successfully! https://jovian.ai/ddmasterdon/01-tensor-operations\u001b[0m\n"
          ],
          "name": "stdout"
        },
        {
          "output_type": "execute_result",
          "data": {
            "application/vnd.google.colaboratory.intrinsic+json": {
              "type": "string"
            },
            "text/plain": [
              "'https://jovian.ai/ddmasterdon/01-tensor-operations'"
            ]
          },
          "metadata": {
            "tags": []
          },
          "execution_count": 43
        }
      ]
    },
    {
      "cell_type": "markdown",
      "metadata": {
        "id": "0NePmUacguFA"
      },
      "source": [
        "## Conclusion\n",
        "\n",
        "This notebook contains 5 usefull PyTorch "
      ]
    },
    {
      "cell_type": "markdown",
      "metadata": {
        "id": "GFyn7M4tguFA"
      },
      "source": [
        "## Reference Links\n",
        "Provide links to your references and other interesting articles about tensors\n",
        "* Official documentation for tensor operations: https://pytorch.org/docs/stable/torch.html\n",
        "* ..."
      ]
    },
    {
      "cell_type": "code",
      "metadata": {
        "id": "EJR1v0hvguFA",
        "outputId": "a6173f38-fb90-4768-e7db-c4c06644da51"
      },
      "source": [
        "jovian.commit(project='01-tensor-operations')"
      ],
      "execution_count": null,
      "outputs": [
        {
          "output_type": "display_data",
          "data": {
            "application/javascript": [
              "window.require && require([\"base/js/namespace\"],function(Jupyter){Jupyter.notebook.save_checkpoint()})"
            ],
            "text/plain": [
              "<IPython.core.display.Javascript object>"
            ]
          },
          "metadata": {
            "tags": []
          }
        },
        {
          "output_type": "stream",
          "text": [
            "[jovian] Attempting to save notebook..\u001b[0m\n"
          ],
          "name": "stdout"
        }
      ]
    },
    {
      "cell_type": "code",
      "metadata": {
        "id": "Ru7wkRyCguFB"
      },
      "source": [
        ""
      ],
      "execution_count": null,
      "outputs": []
    }
  ]
}