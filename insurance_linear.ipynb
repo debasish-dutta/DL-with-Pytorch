{
  "nbformat": 4,
  "nbformat_minor": 0,
  "metadata": {
    "colab": {
      "name": "02-insurance-linear.ipynb",
      "provenance": [],
      "include_colab_link": true
    },
    "kernelspec": {
      "display_name": "Python 3",
      "language": "python",
      "name": "python3"
    },
    "language_info": {
      "codemirror_mode": {
        "name": "ipython",
        "version": 3
      },
      "file_extension": ".py",
      "mimetype": "text/x-python",
      "name": "python",
      "nbconvert_exporter": "python",
      "pygments_lexer": "ipython3",
      "version": "3.8.5"
    },
    "widgets": {
      "application/vnd.jupyter.widget-state+json": {
        "d1d950683ac24507819111831bdf2005": {
          "model_module": "@jupyter-widgets/controls",
          "model_name": "HBoxModel",
          "state": {
            "_dom_classes": [],
            "_model_module": "@jupyter-widgets/controls",
            "_model_module_version": "1.5.0",
            "_model_name": "HBoxModel",
            "_view_count": null,
            "_view_module": "@jupyter-widgets/controls",
            "_view_module_version": "1.5.0",
            "_view_name": "HBoxView",
            "box_style": "",
            "children": [
              "IPY_MODEL_5ff1ea0edc004f1eb1dfc0396f3f2101",
              "IPY_MODEL_6195c676f350455990dd45ce8396ee26"
            ],
            "layout": "IPY_MODEL_00bd4405edc34e36a53bd1a8e62e878b"
          }
        },
        "00bd4405edc34e36a53bd1a8e62e878b": {
          "model_module": "@jupyter-widgets/base",
          "model_name": "LayoutModel",
          "state": {
            "_model_module": "@jupyter-widgets/base",
            "_model_module_version": "1.2.0",
            "_model_name": "LayoutModel",
            "_view_count": null,
            "_view_module": "@jupyter-widgets/base",
            "_view_module_version": "1.2.0",
            "_view_name": "LayoutView",
            "align_content": null,
            "align_items": null,
            "align_self": null,
            "border": null,
            "bottom": null,
            "display": null,
            "flex": null,
            "flex_flow": null,
            "grid_area": null,
            "grid_auto_columns": null,
            "grid_auto_flow": null,
            "grid_auto_rows": null,
            "grid_column": null,
            "grid_gap": null,
            "grid_row": null,
            "grid_template_areas": null,
            "grid_template_columns": null,
            "grid_template_rows": null,
            "height": null,
            "justify_content": null,
            "justify_items": null,
            "left": null,
            "margin": null,
            "max_height": null,
            "max_width": null,
            "min_height": null,
            "min_width": null,
            "object_fit": null,
            "object_position": null,
            "order": null,
            "overflow": null,
            "overflow_x": null,
            "overflow_y": null,
            "padding": null,
            "right": null,
            "top": null,
            "visibility": null,
            "width": null
          }
        },
        "5ff1ea0edc004f1eb1dfc0396f3f2101": {
          "model_module": "@jupyter-widgets/controls",
          "model_name": "FloatProgressModel",
          "state": {
            "_dom_classes": [],
            "_model_module": "@jupyter-widgets/controls",
            "_model_module_version": "1.5.0",
            "_model_name": "FloatProgressModel",
            "_view_count": null,
            "_view_module": "@jupyter-widgets/controls",
            "_view_module_version": "1.5.0",
            "_view_name": "ProgressView",
            "bar_style": "info",
            "description": "",
            "description_tooltip": null,
            "layout": "IPY_MODEL_8f8b28737f57428a932cccceb5fbe781",
            "max": 1,
            "min": 0,
            "orientation": "horizontal",
            "style": "IPY_MODEL_0d4bbd63c2604e7592ed63fbcd2cf92d",
            "value": 1
          }
        },
        "6195c676f350455990dd45ce8396ee26": {
          "model_module": "@jupyter-widgets/controls",
          "model_name": "HTMLModel",
          "state": {
            "_dom_classes": [],
            "_model_module": "@jupyter-widgets/controls",
            "_model_module_version": "1.5.0",
            "_model_name": "HTMLModel",
            "_view_count": null,
            "_view_module": "@jupyter-widgets/controls",
            "_view_module_version": "1.5.0",
            "_view_name": "HTMLView",
            "description": "",
            "description_tooltip": null,
            "layout": "IPY_MODEL_bb3fa42a8eb54147b22d842e1a095999",
            "placeholder": "​",
            "style": "IPY_MODEL_144633f678ee409c9ba4e6fff12e2b8a",
            "value": " 57344/? [00:19&lt;00:00, 148246.57it/s]"
          }
        },
        "0d4bbd63c2604e7592ed63fbcd2cf92d": {
          "model_module": "@jupyter-widgets/controls",
          "model_name": "ProgressStyleModel",
          "state": {
            "_model_module": "@jupyter-widgets/controls",
            "_model_module_version": "1.5.0",
            "_model_name": "ProgressStyleModel",
            "_view_count": null,
            "_view_module": "@jupyter-widgets/base",
            "_view_module_version": "1.2.0",
            "_view_name": "StyleView",
            "bar_color": null,
            "description_width": "initial"
          }
        },
        "8f8b28737f57428a932cccceb5fbe781": {
          "model_module": "@jupyter-widgets/base",
          "model_name": "LayoutModel",
          "state": {
            "_model_module": "@jupyter-widgets/base",
            "_model_module_version": "1.2.0",
            "_model_name": "LayoutModel",
            "_view_count": null,
            "_view_module": "@jupyter-widgets/base",
            "_view_module_version": "1.2.0",
            "_view_name": "LayoutView",
            "align_content": null,
            "align_items": null,
            "align_self": null,
            "border": null,
            "bottom": null,
            "display": null,
            "flex": null,
            "flex_flow": null,
            "grid_area": null,
            "grid_auto_columns": null,
            "grid_auto_flow": null,
            "grid_auto_rows": null,
            "grid_column": null,
            "grid_gap": null,
            "grid_row": null,
            "grid_template_areas": null,
            "grid_template_columns": null,
            "grid_template_rows": null,
            "height": null,
            "justify_content": null,
            "justify_items": null,
            "left": null,
            "margin": null,
            "max_height": null,
            "max_width": null,
            "min_height": null,
            "min_width": null,
            "object_fit": null,
            "object_position": null,
            "order": null,
            "overflow": null,
            "overflow_x": null,
            "overflow_y": null,
            "padding": null,
            "right": null,
            "top": null,
            "visibility": null,
            "width": null
          }
        },
        "144633f678ee409c9ba4e6fff12e2b8a": {
          "model_module": "@jupyter-widgets/controls",
          "model_name": "DescriptionStyleModel",
          "state": {
            "_model_module": "@jupyter-widgets/controls",
            "_model_module_version": "1.5.0",
            "_model_name": "DescriptionStyleModel",
            "_view_count": null,
            "_view_module": "@jupyter-widgets/base",
            "_view_module_version": "1.2.0",
            "_view_name": "StyleView",
            "description_width": ""
          }
        },
        "bb3fa42a8eb54147b22d842e1a095999": {
          "model_module": "@jupyter-widgets/base",
          "model_name": "LayoutModel",
          "state": {
            "_model_module": "@jupyter-widgets/base",
            "_model_module_version": "1.2.0",
            "_model_name": "LayoutModel",
            "_view_count": null,
            "_view_module": "@jupyter-widgets/base",
            "_view_module_version": "1.2.0",
            "_view_name": "LayoutView",
            "align_content": null,
            "align_items": null,
            "align_self": null,
            "border": null,
            "bottom": null,
            "display": null,
            "flex": null,
            "flex_flow": null,
            "grid_area": null,
            "grid_auto_columns": null,
            "grid_auto_flow": null,
            "grid_auto_rows": null,
            "grid_column": null,
            "grid_gap": null,
            "grid_row": null,
            "grid_template_areas": null,
            "grid_template_columns": null,
            "grid_template_rows": null,
            "height": null,
            "justify_content": null,
            "justify_items": null,
            "left": null,
            "margin": null,
            "max_height": null,
            "max_width": null,
            "min_height": null,
            "min_width": null,
            "object_fit": null,
            "object_position": null,
            "order": null,
            "overflow": null,
            "overflow_x": null,
            "overflow_y": null,
            "padding": null,
            "right": null,
            "top": null,
            "visibility": null,
            "width": null
          }
        }
      }
    }
  },
  "cells": [
    {
      "cell_type": "markdown",
      "metadata": {
        "id": "view-in-github",
        "colab_type": "text"
      },
      "source": [
        "<a href=\"https://colab.research.google.com/github/debasish-dutta/DL-with-Pytorch/blob/master/insurance_linear.ipynb\" target=\"_parent\"><img src=\"https://colab.research.google.com/assets/colab-badge.svg\" alt=\"Open In Colab\"/></a>"
      ]
    },
    {
      "cell_type": "code",
      "metadata": {
        "id": "kiMQTLTHvRdK"
      },
      "source": [
        "# Jovian Commit Essentials\n",
        "# Please retain and execute this cell without modifying the contents for `jovian.commit` to work\n",
        "!pip install jovian --upgrade -q\n",
        "import jovian\n",
        "jovian.utils.colab.set_colab_file_id('1gRXDOWM7R9EpuyKPkYwAxHka3CPZDEmr')"
      ],
      "execution_count": null,
      "outputs": []
    },
    {
      "cell_type": "markdown",
      "metadata": {
        "_cell_guid": "b1076dfc-b9ad-4769-8c92-a6c4dae69d19",
        "_uuid": "8f2839f25d086af736a60e9eeb907d3b93b6e0e5",
        "id": "I7FircHJ6d9E"
      },
      "source": [
        "# Insurance cost prediction using linear regression\n",
        "\n",
        "Make a submisson here: https://jovian.ai/learn/deep-learning-with-pytorch-zero-to-gans/assignment/assignment-2-train-your-first-model\n",
        "\n",
        "In this assignment we're going to use information like a person's age, sex, BMI, no. of children and smoking habit to predict the price of yearly medical bills. This kind of model is useful for insurance companies to determine the yearly insurance premium for a person. The dataset for this problem is taken from [Kaggle](https://www.kaggle.com/mirichoi0218/insurance).\n",
        "\n",
        "\n",
        "We will create a model with the following steps:\n",
        "1. Download and explore the dataset\n",
        "2. Prepare the dataset for training\n",
        "3. Create a linear regression model\n",
        "4. Train the model to fit the data\n",
        "5. Make predictions using the trained model\n",
        "\n",
        "\n",
        "This assignment builds upon the concepts from the first 2 lessons. It will help to review these Jupyter notebooks:\n",
        "- PyTorch basics: https://jovian.ai/aakashns/01-pytorch-basics\n",
        "- Linear Regression: https://jovian.ai/aakashns/02-linear-regression\n",
        "- Logistic Regression: https://jovian.ai/aakashns/03-logistic-regression\n",
        "- Linear regression (minimal): https://jovian.ai/aakashns/housing-linear-minimal\n",
        "- Logistic regression (minimal): https://jovian.ai/aakashns/mnist-logistic-minimal\n",
        "\n",
        "As you go through this notebook, you will find a **???** in certain places. Your job is to replace the **???** with appropriate code or values, to ensure that the notebook runs properly end-to-end . In some cases, you'll be required to choose some hyperparameters (learning rate, batch size etc.). Try to experiment with the hypeparameters to get the lowest loss.\n"
      ]
    },
    {
      "cell_type": "code",
      "metadata": {
        "id": "liRZdKkJ6d9F"
      },
      "source": [
        "# Uncomment and run the appropriate command for your operating system, if required\n",
        "\n",
        "# Linux / Binder\n",
        "# !pip install numpy matplotlib pandas torch==1.7.0+cpu torchvision==0.8.1+cpu torchaudio==0.7.0 -f https://download.pytorch.org/whl/torch_stable.html\n",
        "\n",
        "# Windows\n",
        "# !pip install numpy matplotlib pandas torch==1.7.0+cpu torchvision==0.8.1+cpu torchaudio==0.7.0 -f https://download.pytorch.org/whl/torch_stable.html\n",
        "\n",
        "# MacOS\n",
        "# !pip install numpy matplotlib pandas torch torchvision torchaudio"
      ],
      "execution_count": null,
      "outputs": []
    },
    {
      "cell_type": "code",
      "metadata": {
        "id": "fNvZmCKW6d9G"
      },
      "source": [
        "import torch\n",
        "import jovian\n",
        "import torchvision\n",
        "import torch.nn as nn\n",
        "import pandas as pd\n",
        "import matplotlib.pyplot as plt\n",
        "import torch.nn.functional as F\n",
        "from torchvision.datasets.utils import download_url\n",
        "from torch.utils.data import DataLoader, TensorDataset, random_split"
      ],
      "execution_count": null,
      "outputs": []
    },
    {
      "cell_type": "code",
      "metadata": {
        "id": "lMDsGp5Q6d9H"
      },
      "source": [
        "project_name='02-insurance-linear-regression' # will be used by jovian.commit"
      ],
      "execution_count": null,
      "outputs": []
    },
    {
      "cell_type": "markdown",
      "metadata": {
        "id": "aLdJJxpG6d9I"
      },
      "source": [
        "## Step 1: Download and explore the data\n",
        "\n",
        "Let us begin by downloading the data. We'll use the `download_url` function from PyTorch to get the data as a CSV (comma-separated values) file. "
      ]
    },
    {
      "cell_type": "code",
      "metadata": {
        "_cell_guid": "79c7e3d0-c299-4dcb-8224-4455121ee9b0",
        "_uuid": "d629ff2d2480ee46fbb7e2d37f6b5fab8052498a",
        "colab": {
          "base_uri": "https://localhost:8080/",
          "height": 66,
          "referenced_widgets": [
            "d1d950683ac24507819111831bdf2005",
            "00bd4405edc34e36a53bd1a8e62e878b",
            "5ff1ea0edc004f1eb1dfc0396f3f2101",
            "6195c676f350455990dd45ce8396ee26",
            "0d4bbd63c2604e7592ed63fbcd2cf92d",
            "8f8b28737f57428a932cccceb5fbe781",
            "144633f678ee409c9ba4e6fff12e2b8a",
            "bb3fa42a8eb54147b22d842e1a095999"
          ]
        },
        "id": "qgINdNKr6d9J",
        "outputId": "ae36d659-c47a-4d57-f6a5-4f6c74901311"
      },
      "source": [
        "DATASET_URL = \"https://hub.jovian.ml/wp-content/uploads/2020/05/insurance.csv\"\n",
        "DATA_FILENAME = \"insurance.csv\"\n",
        "download_url(DATASET_URL, '.')"
      ],
      "execution_count": null,
      "outputs": [
        {
          "output_type": "stream",
          "text": [
            "Downloading https://hub.jovian.ml/wp-content/uploads/2020/05/insurance.csv to ./insurance.csv\n"
          ],
          "name": "stdout"
        },
        {
          "output_type": "display_data",
          "data": {
            "application/vnd.jupyter.widget-view+json": {
              "model_id": "d1d950683ac24507819111831bdf2005",
              "version_major": 2,
              "version_minor": 0
            },
            "text/plain": [
              "HBox(children=(FloatProgress(value=1.0, bar_style='info', max=1.0), HTML(value='')))"
            ]
          },
          "metadata": {
            "tags": []
          }
        }
      ]
    },
    {
      "cell_type": "markdown",
      "metadata": {
        "id": "aI2FTyWX6d9L"
      },
      "source": [
        "To load the dataset into memory, we'll use the `read_csv` function from the `pandas` library. The data will be loaded as a Pandas dataframe. See this short tutorial to learn more: https://data36.com/pandas-tutorial-1-basics-reading-data-files-dataframes-data-selection/"
      ]
    },
    {
      "cell_type": "code",
      "metadata": {
        "colab": {
          "base_uri": "https://localhost:8080/",
          "height": 204
        },
        "id": "8mGKp5696d9M",
        "outputId": "9a57c155-4bd7-4c6f-c692-ab24bd3ef40b"
      },
      "source": [
        "dataframe_raw = pd.read_csv(DATA_FILENAME)\n",
        "dataframe_raw.head()"
      ],
      "execution_count": null,
      "outputs": [
        {
          "output_type": "execute_result",
          "data": {
            "text/html": [
              "<div>\n",
              "<style scoped>\n",
              "    .dataframe tbody tr th:only-of-type {\n",
              "        vertical-align: middle;\n",
              "    }\n",
              "\n",
              "    .dataframe tbody tr th {\n",
              "        vertical-align: top;\n",
              "    }\n",
              "\n",
              "    .dataframe thead th {\n",
              "        text-align: right;\n",
              "    }\n",
              "</style>\n",
              "<table border=\"1\" class=\"dataframe\">\n",
              "  <thead>\n",
              "    <tr style=\"text-align: right;\">\n",
              "      <th></th>\n",
              "      <th>age</th>\n",
              "      <th>sex</th>\n",
              "      <th>bmi</th>\n",
              "      <th>children</th>\n",
              "      <th>smoker</th>\n",
              "      <th>region</th>\n",
              "      <th>charges</th>\n",
              "    </tr>\n",
              "  </thead>\n",
              "  <tbody>\n",
              "    <tr>\n",
              "      <th>0</th>\n",
              "      <td>19</td>\n",
              "      <td>female</td>\n",
              "      <td>27.900</td>\n",
              "      <td>0</td>\n",
              "      <td>yes</td>\n",
              "      <td>southwest</td>\n",
              "      <td>16884.92400</td>\n",
              "    </tr>\n",
              "    <tr>\n",
              "      <th>1</th>\n",
              "      <td>18</td>\n",
              "      <td>male</td>\n",
              "      <td>33.770</td>\n",
              "      <td>1</td>\n",
              "      <td>no</td>\n",
              "      <td>southeast</td>\n",
              "      <td>1725.55230</td>\n",
              "    </tr>\n",
              "    <tr>\n",
              "      <th>2</th>\n",
              "      <td>28</td>\n",
              "      <td>male</td>\n",
              "      <td>33.000</td>\n",
              "      <td>3</td>\n",
              "      <td>no</td>\n",
              "      <td>southeast</td>\n",
              "      <td>4449.46200</td>\n",
              "    </tr>\n",
              "    <tr>\n",
              "      <th>3</th>\n",
              "      <td>33</td>\n",
              "      <td>male</td>\n",
              "      <td>22.705</td>\n",
              "      <td>0</td>\n",
              "      <td>no</td>\n",
              "      <td>northwest</td>\n",
              "      <td>21984.47061</td>\n",
              "    </tr>\n",
              "    <tr>\n",
              "      <th>4</th>\n",
              "      <td>32</td>\n",
              "      <td>male</td>\n",
              "      <td>28.880</td>\n",
              "      <td>0</td>\n",
              "      <td>no</td>\n",
              "      <td>northwest</td>\n",
              "      <td>3866.85520</td>\n",
              "    </tr>\n",
              "  </tbody>\n",
              "</table>\n",
              "</div>"
            ],
            "text/plain": [
              "   age     sex     bmi  children smoker     region      charges\n",
              "0   19  female  27.900         0    yes  southwest  16884.92400\n",
              "1   18    male  33.770         1     no  southeast   1725.55230\n",
              "2   28    male  33.000         3     no  southeast   4449.46200\n",
              "3   33    male  22.705         0     no  northwest  21984.47061\n",
              "4   32    male  28.880         0     no  northwest   3866.85520"
            ]
          },
          "metadata": {
            "tags": []
          },
          "execution_count": 5
        }
      ]
    },
    {
      "cell_type": "markdown",
      "metadata": {
        "id": "ir1e_swR6d9O"
      },
      "source": [
        "We're going to do a slight customization of the data, so that you every participant receives a slightly different version of the dataset. Fill in your name below as a string (enter at least 5 characters)"
      ]
    },
    {
      "cell_type": "code",
      "metadata": {
        "id": "wga5RW4P6d9P"
      },
      "source": [
        "your_name = \"ddmasterdon\" # at least 5 characters"
      ],
      "execution_count": null,
      "outputs": []
    },
    {
      "cell_type": "markdown",
      "metadata": {
        "id": "e9e4A33e6d9P"
      },
      "source": [
        "The `customize_dataset` function will customize the dataset slightly using your name as a source of random numbers."
      ]
    },
    {
      "cell_type": "code",
      "metadata": {
        "id": "luBOxbu16d9Q"
      },
      "source": [
        "def customize_dataset(dataframe_raw, rand_str):\n",
        "    dataframe = dataframe_raw.copy(deep=True)\n",
        "    # drop some rows\n",
        "    dataframe = dataframe.sample(int(0.95*len(dataframe)), random_state=int(ord(rand_str[0])))\n",
        "    # scale input\n",
        "    dataframe.bmi = dataframe.bmi * ord(rand_str[1])/100.\n",
        "    # scale target\n",
        "    dataframe.charges = dataframe.charges * ord(rand_str[2])/100.\n",
        "    # drop column\n",
        "    if ord(rand_str[3]) % 2 == 1:\n",
        "        dataframe = dataframe.drop(['region'], axis=1)\n",
        "    return dataframe"
      ],
      "execution_count": null,
      "outputs": []
    },
    {
      "cell_type": "code",
      "metadata": {
        "colab": {
          "base_uri": "https://localhost:8080/",
          "height": 204
        },
        "id": "-l-FZ_Kc6d9R",
        "outputId": "3213d262-d5fa-4705-9c03-c3610bc2277b"
      },
      "source": [
        "dataframe = customize_dataset(dataframe_raw, your_name)\n",
        "dataframe.head()"
      ],
      "execution_count": null,
      "outputs": [
        {
          "output_type": "execute_result",
          "data": {
            "text/html": [
              "<div>\n",
              "<style scoped>\n",
              "    .dataframe tbody tr th:only-of-type {\n",
              "        vertical-align: middle;\n",
              "    }\n",
              "\n",
              "    .dataframe tbody tr th {\n",
              "        vertical-align: top;\n",
              "    }\n",
              "\n",
              "    .dataframe thead th {\n",
              "        text-align: right;\n",
              "    }\n",
              "</style>\n",
              "<table border=\"1\" class=\"dataframe\">\n",
              "  <thead>\n",
              "    <tr style=\"text-align: right;\">\n",
              "      <th></th>\n",
              "      <th>age</th>\n",
              "      <th>sex</th>\n",
              "      <th>bmi</th>\n",
              "      <th>children</th>\n",
              "      <th>smoker</th>\n",
              "      <th>charges</th>\n",
              "    </tr>\n",
              "  </thead>\n",
              "  <tbody>\n",
              "    <tr>\n",
              "      <th>12</th>\n",
              "      <td>23</td>\n",
              "      <td>male</td>\n",
              "      <td>34.400</td>\n",
              "      <td>0</td>\n",
              "      <td>no</td>\n",
              "      <td>1991.258870</td>\n",
              "    </tr>\n",
              "    <tr>\n",
              "      <th>306</th>\n",
              "      <td>28</td>\n",
              "      <td>female</td>\n",
              "      <td>27.500</td>\n",
              "      <td>2</td>\n",
              "      <td>no</td>\n",
              "      <td>21993.661532</td>\n",
              "    </tr>\n",
              "    <tr>\n",
              "      <th>318</th>\n",
              "      <td>44</td>\n",
              "      <td>female</td>\n",
              "      <td>27.645</td>\n",
              "      <td>0</td>\n",
              "      <td>no</td>\n",
              "      <td>8089.102059</td>\n",
              "    </tr>\n",
              "    <tr>\n",
              "      <th>815</th>\n",
              "      <td>20</td>\n",
              "      <td>female</td>\n",
              "      <td>31.460</td>\n",
              "      <td>0</td>\n",
              "      <td>no</td>\n",
              "      <td>2046.943046</td>\n",
              "    </tr>\n",
              "    <tr>\n",
              "      <th>157</th>\n",
              "      <td>18</td>\n",
              "      <td>male</td>\n",
              "      <td>25.175</td>\n",
              "      <td>0</td>\n",
              "      <td>yes</td>\n",
              "      <td>16914.816472</td>\n",
              "    </tr>\n",
              "  </tbody>\n",
              "</table>\n",
              "</div>"
            ],
            "text/plain": [
              "     age     sex     bmi  children smoker       charges\n",
              "12    23    male  34.400         0     no   1991.258870\n",
              "306   28  female  27.500         2     no  21993.661532\n",
              "318   44  female  27.645         0     no   8089.102059\n",
              "815   20  female  31.460         0     no   2046.943046\n",
              "157   18    male  25.175         0    yes  16914.816472"
            ]
          },
          "metadata": {
            "tags": []
          },
          "execution_count": 9
        }
      ]
    },
    {
      "cell_type": "markdown",
      "metadata": {
        "id": "3oIbFqak6d9S"
      },
      "source": [
        "Let us answer some basic questions about the dataset. \n",
        "\n",
        "\n",
        "**Q: How many rows does the dataset have?**"
      ]
    },
    {
      "cell_type": "code",
      "metadata": {
        "colab": {
          "base_uri": "https://localhost:8080/"
        },
        "id": "bG-V7dKM7LEk",
        "outputId": "5e46ca13-b086-44a3-f145-9de314e675ff"
      },
      "source": [
        "dataframe.shape"
      ],
      "execution_count": null,
      "outputs": [
        {
          "output_type": "execute_result",
          "data": {
            "text/plain": [
              "(1271, 6)"
            ]
          },
          "metadata": {
            "tags": []
          },
          "execution_count": 13
        }
      ]
    },
    {
      "cell_type": "code",
      "metadata": {
        "colab": {
          "base_uri": "https://localhost:8080/"
        },
        "id": "iohRlm5f6d9S",
        "outputId": "d5ce91ca-98cf-421e-c599-d799c9c3ee8b"
      },
      "source": [
        "num_rows = 1271\n",
        "print(num_rows)"
      ],
      "execution_count": null,
      "outputs": [
        {
          "output_type": "stream",
          "text": [
            "1271\n"
          ],
          "name": "stdout"
        }
      ]
    },
    {
      "cell_type": "markdown",
      "metadata": {
        "id": "f7gXUbY56d9T"
      },
      "source": [
        "**Q: How many columns doe the dataset have**"
      ]
    },
    {
      "cell_type": "code",
      "metadata": {
        "colab": {
          "base_uri": "https://localhost:8080/"
        },
        "id": "gCs6NnZd6d9T",
        "outputId": "b45216e8-1484-4e0b-c2cd-72265b8ff9cf"
      },
      "source": [
        "num_cols = 6\n",
        "print(num_cols)"
      ],
      "execution_count": null,
      "outputs": [
        {
          "output_type": "stream",
          "text": [
            "6\n"
          ],
          "name": "stdout"
        }
      ]
    },
    {
      "cell_type": "markdown",
      "metadata": {
        "id": "ERvs4CeM6d9U"
      },
      "source": [
        "**Q: What are the column titles of the input variables?**"
      ]
    },
    {
      "cell_type": "code",
      "metadata": {
        "id": "X1xnEHPQ6d9U"
      },
      "source": [
        "input_cols = [\"age\", \"sex\", \"bmi\", \"children\", \"smoker\", \"charges\"]"
      ],
      "execution_count": null,
      "outputs": []
    },
    {
      "cell_type": "markdown",
      "metadata": {
        "id": "0yrDw7_y6d9V"
      },
      "source": [
        "**Q: Which of the input columns are non-numeric or categorial variables ?**\n",
        "\n",
        "Hint: `sex` is one of them. List the columns that are not numbers."
      ]
    },
    {
      "cell_type": "code",
      "metadata": {
        "id": "JM-FgQPh6d9V"
      },
      "source": [
        "categorical_cols = [\"sex\", \"children\", \"smoker\"]"
      ],
      "execution_count": null,
      "outputs": []
    },
    {
      "cell_type": "markdown",
      "metadata": {
        "id": "qZ1_aZYc6d9V"
      },
      "source": [
        "**Q: What are the column titles of output/target variable(s)?**"
      ]
    },
    {
      "cell_type": "code",
      "metadata": {
        "id": "CBiP5ep56d9W"
      },
      "source": [
        "output_cols = [\"charges\"]"
      ],
      "execution_count": null,
      "outputs": []
    },
    {
      "cell_type": "markdown",
      "metadata": {
        "id": "Bmn0J4Hw6d9W"
      },
      "source": [
        "**Q: (Optional) What is the minimum, maximum and average value of the `charges` column? Can you show the distribution of values in a graph?**\n",
        "Use this data visualization cheatsheet for referece: https://jovian.ml/aakashns/dataviz-cheatsheet"
      ]
    },
    {
      "cell_type": "code",
      "metadata": {
        "colab": {
          "base_uri": "https://localhost:8080/"
        },
        "id": "aE7qtS5y8gzK",
        "outputId": "e216e50a-625a-4390-bab7-9ca928b9166b"
      },
      "source": [
        "Max = dataframe.charges.max()\r\n",
        "Min = dataframe.charges.min()\r\n",
        "Avg = dataframe.charges.mean()\r\n",
        "\r\n",
        "print(\"Maximun Charges: \", Max)\r\n",
        "print(\"Minimun Charges: \", Min)\r\n",
        "print(\"Avg Charges: \", Avg)"
      ],
      "execution_count": null,
      "outputs": [
        {
          "output_type": "stream",
          "text": [
            "Maximun Charges:  69509.7665309\n",
            "Minimun Charges:  1222.8425510000002\n",
            "Avg Charges:  14555.88488712612\n"
          ],
          "name": "stdout"
        }
      ]
    },
    {
      "cell_type": "code",
      "metadata": {
        "colab": {
          "base_uri": "https://localhost:8080/",
          "height": 366
        },
        "id": "C9mmxMaB6d9W",
        "outputId": "f1e3343b-2a45-439f-c29a-41a87a8f4cf1"
      },
      "source": [
        "import seaborn as sns\r\n",
        "plt.title(\"Distribution of charges\")\r\n",
        "\r\n",
        "sns.distplot(dataframe.charges, kde=False)"
      ],
      "execution_count": null,
      "outputs": [
        {
          "output_type": "stream",
          "text": [
            "/usr/local/lib/python3.6/dist-packages/seaborn/distributions.py:2551: FutureWarning: `distplot` is a deprecated function and will be removed in a future version. Please adapt your code to use either `displot` (a figure-level function with similar flexibility) or `histplot` (an axes-level function for histograms).\n",
            "  warnings.warn(msg, FutureWarning)\n"
          ],
          "name": "stderr"
        },
        {
          "output_type": "execute_result",
          "data": {
            "text/plain": [
              "<matplotlib.axes._subplots.AxesSubplot at 0x7f2e7aac4cf8>"
            ]
          },
          "metadata": {
            "tags": []
          },
          "execution_count": 19
        },
        {
          "output_type": "display_data",
          "data": {
            "image/png": "[encoded data removed]",
            "text/plain": [
              "<Figure size 432x288 with 1 Axes>"
            ]
          },
          "metadata": {
            "tags": [],
            "needs_background": "light"
          }
        }
      ]
    },
    {
      "cell_type": "markdown",
      "metadata": {
        "id": "HteTzNep6d9X"
      },
      "source": [
        "Remember to commit your notebook to Jovian after every step, so that you don't lose your work."
      ]
    },
    {
      "cell_type": "code",
      "metadata": {
        "id": "xKmUsaCE6d9X"
      },
      "source": [
        "!pip install jovian --upgrade -q"
      ],
      "execution_count": null,
      "outputs": []
    },
    {
      "cell_type": "code",
      "metadata": {
        "id": "teiCTCSL6d9X"
      },
      "source": [
        "import jovian"
      ],
      "execution_count": null,
      "outputs": []
    },
    {
      "cell_type": "code",
      "metadata": {
        "colab": {
          "base_uri": "https://localhost:8080/",
          "height": 171
        },
        "id": "WiY8tvKT6d9Y",
        "outputId": "ace5620f-397e-45e5-ae42-756b3dc7d0f6"
      },
      "source": [
        "jovian.commit(project=\"02-insurance-linearReg\", environment=None)"
      ],
      "execution_count": null,
      "outputs": [
        {
          "output_type": "stream",
          "text": [
            "[jovian] Detected Colab notebook...\u001b[0m\n",
            "[jovian] Please enter your API key ( from https://jovian.ai/ ):\u001b[0m\n",
            "API KEY: ··········\n"
          ],
          "name": "stdout"
        },
        {
          "output_type": "stream",
          "text": [
            "\u001b[31m[jovian] Error: The current API key is invalid or expired.\u001b[0m\n"
          ],
          "name": "stderr"
        },
        {
          "output_type": "stream",
          "text": [
            "[jovian] Please enter your API key ( from https://jovian.ai/ ):\u001b[0m\n",
            "API KEY: ··········\n",
            "[jovian] Uploading colab notebook to Jovian...\u001b[0m\n",
            "[jovian] Committed successfully! https://jovian.ai/ddmasterdon/02-insurance-linearreg\u001b[0m\n"
          ],
          "name": "stdout"
        },
        {
          "output_type": "execute_result",
          "data": {
            "application/vnd.google.colaboratory.intrinsic+json": {
              "type": "string"
            },
            "text/plain": [
              "'https://jovian.ai/ddmasterdon/02-insurance-linearreg'"
            ]
          },
          "metadata": {
            "tags": []
          },
          "execution_count": 27
        }
      ]
    },
    {
      "cell_type": "markdown",
      "metadata": {
        "id": "v_5M65lB6d9Y"
      },
      "source": [
        "## Step 2: Prepare the dataset for training\n",
        "\n",
        "We need to convert the data from the Pandas dataframe into a PyTorch tensors for training. To do this, the first step is to convert it numpy arrays. If you've filled out `input_cols`, `categorial_cols` and `output_cols` correctly, this following function will perform the conversion to numpy arrays."
      ]
    },
    {
      "cell_type": "code",
      "metadata": {
        "id": "EjwDIMhT6d9Z"
      },
      "source": [
        "def dataframe_to_arrays(dataframe):\n",
        "    # Make a copy of the original dataframe\n",
        "    dataframe1 = dataframe.copy(deep=True)\n",
        "    # Convert non-numeric categorical columns to numbers\n",
        "    for col in categorical_cols:\n",
        "        dataframe1[col] = dataframe1[col].astype('category').cat.codes\n",
        "    # Extract input & outupts as numpy arrays\n",
        "    inputs_array = dataframe1[input_cols].to_numpy()\n",
        "    targets_array = dataframe1[output_cols].to_numpy()\n",
        "    return inputs_array, targets_array"
      ],
      "execution_count": null,
      "outputs": []
    },
    {
      "cell_type": "markdown",
      "metadata": {
        "id": "Y2aJ_r2P6d9a"
      },
      "source": [
        "Read through the [Pandas documentation](https://pandas.pydata.org/pandas-docs/stable/user_guide/categorical.html) to understand how we're converting categorical variables into numbers."
      ]
    },
    {
      "cell_type": "code",
      "metadata": {
        "colab": {
          "base_uri": "https://localhost:8080/"
        },
        "id": "jFGM0k7O6d9b",
        "outputId": "7429236a-d8eb-4350-a52a-1cab0c0f9a95"
      },
      "source": [
        "inputs_array, targets_array = dataframe_to_arrays(dataframe)\n",
        "inputs_array, targets_array"
      ],
      "execution_count": null,
      "outputs": [
        {
          "output_type": "execute_result",
          "data": {
            "text/plain": [
              "(array([[2.30000000e+01, 1.00000000e+00, 3.44000000e+01, 0.00000000e+00,\n",
              "         0.00000000e+00, 1.99125887e+03],\n",
              "        [2.80000000e+01, 0.00000000e+00, 2.75000000e+01, 2.00000000e+00,\n",
              "         0.00000000e+00, 2.19936615e+04],\n",
              "        [4.40000000e+01, 0.00000000e+00, 2.76450000e+01, 0.00000000e+00,\n",
              "         0.00000000e+00, 8.08910206e+03],\n",
              "        ...,\n",
              "        [3.50000000e+01, 1.00000000e+00, 3.66700000e+01, 1.00000000e+00,\n",
              "         1.00000000e+00, 4.33539612e+04],\n",
              "        [5.90000000e+01, 0.00000000e+00, 3.13500000e+01, 0.00000000e+00,\n",
              "         0.00000000e+00, 1.37581757e+04],\n",
              "        [6.20000000e+01, 0.00000000e+00, 3.29650000e+01, 3.00000000e+00,\n",
              "         0.00000000e+00, 1.70172908e+04]]), array([[ 1991.25887  ],\n",
              "        [21993.6615317],\n",
              "        [ 8089.1020595],\n",
              "        ...,\n",
              "        [43353.961167 ],\n",
              "        [13758.175655 ],\n",
              "        [17017.2907515]]))"
            ]
          },
          "metadata": {
            "tags": []
          },
          "execution_count": 29
        }
      ]
    },
    {
      "cell_type": "markdown",
      "metadata": {
        "id": "ex1QErJV6d9b"
      },
      "source": [
        "**Q: Convert the numpy arrays `inputs_array` and `targets_array` into PyTorch tensors. Make sure that the data type is `torch.float32`.**"
      ]
    },
    {
      "cell_type": "code",
      "metadata": {
        "id": "PezTv2Cy6d9b"
      },
      "source": [
        "inputs = torch.from_numpy(inputs_array).float()\n",
        "targets = torch.from_numpy(targets_array).float()"
      ],
      "execution_count": null,
      "outputs": []
    },
    {
      "cell_type": "code",
      "metadata": {
        "colab": {
          "base_uri": "https://localhost:8080/"
        },
        "id": "B5vKgkfz6d9c",
        "outputId": "be839138-8777-46e4-b00f-8e164c22b36f"
      },
      "source": [
        "inputs.dtype, targets.dtype"
      ],
      "execution_count": null,
      "outputs": [
        {
          "output_type": "execute_result",
          "data": {
            "text/plain": [
              "(torch.float32, torch.float32)"
            ]
          },
          "metadata": {
            "tags": []
          },
          "execution_count": 73
        }
      ]
    },
    {
      "cell_type": "markdown",
      "metadata": {
        "id": "AvZA35ro6d9c"
      },
      "source": [
        "Next, we need to create PyTorch datasets & data loaders for training & validation. We'll start by creating a `TensorDataset`."
      ]
    },
    {
      "cell_type": "code",
      "metadata": {
        "id": "Ixpm0Uzn6d9d"
      },
      "source": [
        "dataset = TensorDataset(inputs, targets)"
      ],
      "execution_count": null,
      "outputs": []
    },
    {
      "cell_type": "markdown",
      "metadata": {
        "id": "TyN3bAya6d9d"
      },
      "source": [
        "**Q: Pick a number between `0.1` and `0.2` to determine the fraction of data that will be used for creating the validation set. Then use `random_split` to create training & validation datasets.**"
      ]
    },
    {
      "cell_type": "code",
      "metadata": {
        "id": "RwYVL4hJ6d9f"
      },
      "source": [
        "val_percent = 0.15 # between 0.1 and 0.2\n",
        "val_size = int(num_rows * val_percent)\n",
        "train_size = num_rows - val_size\n",
        "\n",
        "\n",
        "train_ds, val_ds = random_split(dataset, [train_size, val_size]) # Use the random_split function to split dataset into 2 parts of the desired length"
      ],
      "execution_count": null,
      "outputs": []
    },
    {
      "cell_type": "markdown",
      "metadata": {
        "id": "tOsT6jy06d9g"
      },
      "source": [
        "Finally, we can create data loaders for training & validation.\n",
        "\n",
        "**Q: Pick a batch size for the data loader.**"
      ]
    },
    {
      "cell_type": "code",
      "metadata": {
        "id": "pN9ZPBOJ6d9g"
      },
      "source": [
        "batch_size = 64"
      ],
      "execution_count": null,
      "outputs": []
    },
    {
      "cell_type": "code",
      "metadata": {
        "id": "PA0tFTUQ6d9h"
      },
      "source": [
        "train_loader = DataLoader(train_ds, batch_size, shuffle=True)\n",
        "val_loader = DataLoader(val_ds, batch_size)"
      ],
      "execution_count": null,
      "outputs": []
    },
    {
      "cell_type": "markdown",
      "metadata": {
        "id": "waiMb3OJ6d9h"
      },
      "source": [
        "Let's look at a batch of data to verify everything is working fine so far."
      ]
    },
    {
      "cell_type": "code",
      "metadata": {
        "colab": {
          "base_uri": "https://localhost:8080/"
        },
        "id": "MNDZQZ236d9h",
        "outputId": "8c56788f-4ba9-4776-e569-b0e210cba8c2"
      },
      "source": [
        "for xb, yb in train_loader:\n",
        "    print(\"inputs:\", xb)\n",
        "    print(\"targets:\", yb)\n",
        "    break"
      ],
      "execution_count": null,
      "outputs": [
        {
          "output_type": "stream",
          "text": [
            "inputs: tensor([[3.5000e+01, 1.0000e+00, 2.4130e+01, 1.0000e+00, 0.0000e+00, 5.5865e+03],\n",
            "        [5.2000e+01, 1.0000e+00, 2.6400e+01, 3.0000e+00, 0.0000e+00, 2.8332e+04],\n",
            "        [5.2000e+01, 0.0000e+00, 2.4130e+01, 1.0000e+00, 1.0000e+00, 2.6038e+04],\n",
            "        [4.6000e+01, 0.0000e+00, 2.7720e+01, 1.0000e+00, 0.0000e+00, 8.9736e+03],\n",
            "        [1.8000e+01, 0.0000e+00, 2.8215e+01, 0.0000e+00, 0.0000e+00, 2.3989e+03],\n",
            "        [3.3000e+01, 1.0000e+00, 2.7455e+01, 2.0000e+00, 0.0000e+00, 5.7350e+03],\n",
            "        [5.2000e+01, 0.0000e+00, 2.4860e+01, 0.0000e+00, 0.0000e+00, 2.9559e+04],\n",
            "        [4.6000e+01, 0.0000e+00, 2.7740e+01, 0.0000e+00, 0.0000e+00, 8.7491e+03],\n",
            "        [1.8000e+01, 1.0000e+00, 3.4430e+01, 0.0000e+00, 0.0000e+00, 1.2398e+03],\n",
            "        [5.4000e+01, 0.0000e+00, 3.2300e+01, 1.0000e+00, 0.0000e+00, 1.2549e+04],\n",
            "        [2.4000e+01, 1.0000e+00, 3.1065e+01, 0.0000e+00, 1.0000e+00, 3.7337e+04],\n",
            "        [1.8000e+01, 0.0000e+00, 3.8280e+01, 0.0000e+00, 0.0000e+00, 1.7787e+03],\n",
            "        [5.7000e+01, 1.0000e+00, 2.8100e+01, 0.0000e+00, 0.0000e+00, 1.1952e+04],\n",
            "        [3.4000e+01, 0.0000e+00, 2.9260e+01, 3.0000e+00, 0.0000e+00, 6.7409e+03],\n",
            "        [2.2000e+01, 1.0000e+00, 3.1350e+01, 1.0000e+00, 0.0000e+00, 2.8812e+03],\n",
            "        [2.6000e+01, 1.0000e+00, 3.0875e+01, 2.0000e+00, 0.0000e+00, 4.2263e+03],\n",
            "        [3.1000e+01, 0.0000e+00, 2.9100e+01, 0.0000e+00, 0.0000e+00, 4.0998e+03],\n",
            "        [5.7000e+01, 0.0000e+00, 3.4295e+01, 2.0000e+00, 0.0000e+00, 1.4414e+04],\n",
            "        [5.8000e+01, 0.0000e+00, 2.9000e+01, 0.0000e+00, 0.0000e+00, 1.2908e+04],\n",
            "        [5.4000e+01, 1.0000e+00, 2.9200e+01, 1.0000e+00, 0.0000e+00, 1.1375e+04],\n",
            "        [4.4000e+01, 1.0000e+00, 3.1350e+01, 1.0000e+00, 1.0000e+00, 4.3117e+04],\n",
            "        [5.9000e+01, 0.0000e+00, 3.2100e+01, 3.0000e+00, 0.0000e+00, 1.5268e+04],\n",
            "        [5.7000e+01, 0.0000e+00, 2.2230e+01, 0.0000e+00, 0.0000e+00, 1.3112e+04],\n",
            "        [4.8000e+01, 1.0000e+00, 3.6670e+01, 1.0000e+00, 0.0000e+00, 3.1031e+04],\n",
            "        [3.1000e+01, 1.0000e+00, 3.6300e+01, 2.0000e+00, 1.0000e+00, 4.2195e+04],\n",
            "        [4.6000e+01, 1.0000e+00, 2.7600e+01, 0.0000e+00, 0.0000e+00, 2.6817e+04],\n",
            "        [2.7000e+01, 1.0000e+00, 4.5900e+01, 2.0000e+00, 0.0000e+00, 4.0258e+03],\n",
            "        [3.4000e+01, 0.0000e+00, 1.9000e+01, 3.0000e+00, 0.0000e+00, 7.3608e+03],\n",
            "        [3.1000e+01, 0.0000e+00, 3.0495e+01, 3.0000e+00, 0.0000e+00, 6.6634e+03],\n",
            "        [4.0000e+01, 0.0000e+00, 2.2220e+01, 2.0000e+00, 1.0000e+00, 2.1194e+04],\n",
            "        [2.8000e+01, 0.0000e+00, 1.7290e+01, 0.0000e+00, 0.0000e+00, 4.0686e+03],\n",
            "        [2.5000e+01, 0.0000e+00, 2.8595e+01, 0.0000e+00, 0.0000e+00, 3.5028e+03],\n",
            "        [3.6000e+01, 0.0000e+00, 2.2600e+01, 2.0000e+00, 1.0000e+00, 2.0283e+04],\n",
            "        [3.8000e+01, 1.0000e+00, 1.9300e+01, 0.0000e+00, 1.0000e+00, 1.7245e+04],\n",
            "        [2.0000e+01, 1.0000e+00, 2.2000e+01, 1.0000e+00, 0.0000e+00, 2.1416e+03],\n",
            "        [2.2000e+01, 1.0000e+00, 3.7620e+01, 1.0000e+00, 1.0000e+00, 4.0510e+04],\n",
            "        [4.0000e+01, 0.0000e+00, 2.9600e+01, 0.0000e+00, 0.0000e+00, 6.4429e+03],\n",
            "        [3.6000e+01, 0.0000e+00, 2.2135e+01, 3.0000e+00, 0.0000e+00, 7.8788e+03],\n",
            "        [5.2000e+01, 0.0000e+00, 2.5300e+01, 2.0000e+00, 1.0000e+00, 2.6887e+04],\n",
            "        [4.3000e+01, 0.0000e+00, 3.2560e+01, 3.0000e+00, 1.0000e+00, 4.4626e+04],\n",
            "        [3.0000e+01, 1.0000e+00, 2.5460e+01, 0.0000e+00, 0.0000e+00, 3.9731e+03],\n",
            "        [4.7000e+01, 1.0000e+00, 2.9830e+01, 3.0000e+00, 0.0000e+00, 1.0486e+04],\n",
            "        [4.1000e+01, 1.0000e+00, 3.7050e+01, 2.0000e+00, 0.0000e+00, 7.9196e+03],\n",
            "        [5.6000e+01, 0.0000e+00, 2.8785e+01, 0.0000e+00, 0.0000e+00, 1.2708e+04],\n",
            "        [2.7000e+01, 1.0000e+00, 4.2130e+01, 0.0000e+00, 1.0000e+00, 4.3177e+04],\n",
            "        [3.9000e+01, 1.0000e+00, 2.1850e+01, 1.0000e+00, 0.0000e+00, 6.6681e+03],\n",
            "        [3.2000e+01, 0.0000e+00, 4.4220e+01, 0.0000e+00, 0.0000e+00, 4.3537e+03],\n",
            "        [6.1000e+01, 1.0000e+00, 3.3535e+01, 0.0000e+00, 0.0000e+00, 1.4326e+04],\n",
            "        [1.9000e+01, 1.0000e+00, 3.0250e+01, 0.0000e+00, 1.0000e+00, 3.5478e+04],\n",
            "        [2.8000e+01, 0.0000e+00, 2.5800e+01, 0.0000e+00, 0.0000e+00, 3.4460e+03],\n",
            "        [4.5000e+01, 1.0000e+00, 2.3560e+01, 2.0000e+00, 0.0000e+00, 9.3782e+03],\n",
            "        [2.9000e+01, 0.0000e+00, 2.9590e+01, 1.0000e+00, 0.0000e+00, 4.3027e+03],\n",
            "        [4.2000e+01, 0.0000e+00, 2.4985e+01, 2.0000e+00, 0.0000e+00, 8.7386e+03],\n",
            "        [1.9000e+01, 0.0000e+00, 3.7430e+01, 0.0000e+00, 0.0000e+00, 2.3305e+03],\n",
            "        [2.9000e+01, 0.0000e+00, 2.6030e+01, 0.0000e+00, 0.0000e+00, 4.0727e+03],\n",
            "        [4.7000e+01, 1.0000e+00, 3.2300e+01, 1.0000e+00, 0.0000e+00, 8.7884e+03],\n",
            "        [3.1000e+01, 0.0000e+00, 3.2775e+01, 2.0000e+00, 0.0000e+00, 5.8069e+03],\n",
            "        [2.2000e+01, 1.0000e+00, 3.3770e+01, 0.0000e+00, 0.0000e+00, 1.8253e+03],\n",
            "        [5.6000e+01, 0.0000e+00, 2.5650e+01, 0.0000e+00, 0.0000e+00, 1.2485e+04],\n",
            "        [3.0000e+01, 1.0000e+00, 3.8830e+01, 1.0000e+00, 0.0000e+00, 2.0670e+04],\n",
            "        [4.9000e+01, 0.0000e+00, 2.2610e+01, 1.0000e+00, 0.0000e+00, 1.0428e+04],\n",
            "        [5.1000e+01, 1.0000e+00, 3.7000e+01, 0.0000e+00, 0.0000e+00, 9.5905e+03],\n",
            "        [2.8000e+01, 0.0000e+00, 3.4770e+01, 0.0000e+00, 0.0000e+00, 3.8770e+03],\n",
            "        [3.2000e+01, 1.0000e+00, 3.0030e+01, 1.0000e+00, 0.0000e+00, 4.4412e+03]])\n",
            "targets: tensor([[ 5586.4854],\n",
            "        [28332.1758],\n",
            "        [26037.5527],\n",
            "        [ 8973.5762],\n",
            "        [ 2398.9055],\n",
            "        [ 5735.0015],\n",
            "        [29558.6133],\n",
            "        [ 8749.0664],\n",
            "        [ 1239.8419],\n",
            "        [12548.5215],\n",
            "        [37336.9180],\n",
            "        [ 1778.6851],\n",
            "        [11952.3359],\n",
            "        [ 6740.8862],\n",
            "        [ 2881.1626],\n",
            "        [ 4226.2617],\n",
            "        [ 4099.8081],\n",
            "        [14414.2227],\n",
            "        [12908.2617],\n",
            "        [11375.3447],\n",
            "        [43116.5781],\n",
            "        [15267.8721],\n",
            "        [13111.9229],\n",
            "        [31031.1211],\n",
            "        [42194.9883],\n",
            "        [26817.3223],\n",
            "        [ 4025.8364],\n",
            "        [ 7360.8115],\n",
            "        [ 6663.4219],\n",
            "        [21194.2500],\n",
            "        [ 4068.5613],\n",
            "        [ 3502.8481],\n",
            "        [20283.0059],\n",
            "        [17244.5625],\n",
            "        [ 2141.6101],\n",
            "        [40510.0273],\n",
            "        [ 6442.9292],\n",
            "        [ 7878.7549],\n",
            "        [26887.4863],\n",
            "        [44626.0000],\n",
            "        [ 3973.1475],\n",
            "        [10486.1602],\n",
            "        [ 7919.6157],\n",
            "        [12707.6328],\n",
            "        [43176.8164],\n",
            "        [ 6668.0688],\n",
            "        [ 4353.6538],\n",
            "        [14326.2373],\n",
            "        [35477.6914],\n",
            "        [ 3445.9849],\n",
            "        [ 9378.1680],\n",
            "        [ 4302.6802],\n",
            "        [ 8738.5967],\n",
            "        [ 2330.4971],\n",
            "        [ 4072.7466],\n",
            "        [ 8788.4131],\n",
            "        [ 5806.8662],\n",
            "        [ 1825.3492],\n",
            "        [12484.8838],\n",
            "        [20669.8574],\n",
            "        [10428.0205],\n",
            "        [ 9590.4668],\n",
            "        [ 3877.0454],\n",
            "        [ 4441.1543]])\n"
          ],
          "name": "stdout"
        }
      ]
    },
    {
      "cell_type": "markdown",
      "metadata": {
        "id": "MQMpBzjj6d9i"
      },
      "source": [
        "Let's save our work by committing to Jovian."
      ]
    },
    {
      "cell_type": "code",
      "metadata": {
        "colab": {
          "base_uri": "https://localhost:8080/",
          "height": 86
        },
        "id": "gO-r0siU6d9i",
        "outputId": "b61fd5af-4703-4047-c54d-f5e0674ced5e"
      },
      "source": [
        "jovian.commit(project=project_name, environment=None)"
      ],
      "execution_count": null,
      "outputs": [
        {
          "output_type": "stream",
          "text": [
            "[jovian] Detected Colab notebook...\u001b[0m\n",
            "[jovian] Uploading colab notebook to Jovian...\u001b[0m\n",
            "[jovian] Committed successfully! https://jovian.ai/ddmasterdon/02-insurance-linear-regression\u001b[0m\n"
          ],
          "name": "stdout"
        },
        {
          "output_type": "execute_result",
          "data": {
            "application/vnd.google.colaboratory.intrinsic+json": {
              "type": "string"
            },
            "text/plain": [
              "'https://jovian.ai/ddmasterdon/02-insurance-linear-regression'"
            ]
          },
          "metadata": {
            "tags": []
          },
          "execution_count": 61
        }
      ]
    },
    {
      "cell_type": "markdown",
      "metadata": {
        "id": "iV4ZOnUt6d9i"
      },
      "source": [
        "## Step 3: Create a Linear Regression Model\n",
        "\n",
        "Our model itself is a fairly straightforward linear regression (we'll build more complex models in the next assignment). \n"
      ]
    },
    {
      "cell_type": "code",
      "metadata": {
        "id": "Lk-pZnEF6d9i"
      },
      "source": [
        "input_size = len(input_cols)\n",
        "output_size = len(output_cols)"
      ],
      "execution_count": null,
      "outputs": []
    },
    {
      "cell_type": "markdown",
      "metadata": {
        "id": "IvT3-wr06d9j"
      },
      "source": [
        "**Q: Complete the class definition below by filling out the constructor (`__init__`), `forward`, `training_step` and `validation_step` methods.**\n",
        "\n",
        "Hint: Think carefully about picking a good loss fuction (it's not cross entropy). Maybe try 2-3 of them and see which one works best. See https://pytorch.org/docs/stable/nn.functional.html#loss-functions"
      ]
    },
    {
      "cell_type": "code",
      "metadata": {
        "id": "ZoapkBxq6d9j"
      },
      "source": [
        "class InsuranceModel(nn.Module):\n",
        "    def __init__(self):\n",
        "        super().__init__()\n",
        "        self.linear = nn.Linear(input_size, output_size)                  # fill this (hint: use input_size & output_size defined above)\n",
        "        \n",
        "    def forward(self, xb):\n",
        "        out = self.linear(xb)                          # fill this\n",
        "        return out\n",
        "    \n",
        "    def training_step(self, batch):\n",
        "        inputs, targets = batch \n",
        "        # Generate predictions\n",
        "        out = self(inputs)          \n",
        "        # Calcuate loss\n",
        "        loss = F.l1_loss(out, targets)                          # fill this\n",
        "        return loss\n",
        "    \n",
        "    def validation_step(self, batch):\n",
        "        inputs, targets = batch\n",
        "        # Generate predictions\n",
        "        out = self(inputs)\n",
        "        # Calculate loss\n",
        "        loss = F.l1_loss(out, targets)                           # fill this    \n",
        "        return {'val_loss': loss.detach()}\n",
        "        \n",
        "    def validation_epoch_end(self, outputs):\n",
        "        batch_losses = [x['val_loss'] for x in outputs]\n",
        "        epoch_loss = torch.stack(batch_losses).mean()   # Combine losses\n",
        "        return {'val_loss': epoch_loss.item()}\n",
        "    \n",
        "    def epoch_end(self, epoch, result, num_epochs):\n",
        "        # Print result every 20th epoch\n",
        "        if (epoch+1) % 20 == 0 or epoch == num_epochs-1:\n",
        "            print(\"Epoch [{}], val_loss: {:.4f}\".format(epoch+1, result['val_loss']))"
      ],
      "execution_count": null,
      "outputs": []
    },
    {
      "cell_type": "markdown",
      "metadata": {
        "id": "6Lwr0wpD6d9k"
      },
      "source": [
        "Let us create a model using the `InsuranceModel` class. You may need to come back later and re-run the next cell to reinitialize the model, in case the loss becomes `nan` or `infinity`."
      ]
    },
    {
      "cell_type": "code",
      "metadata": {
        "id": "Ytv98lPR6d9k"
      },
      "source": [
        "model = InsuranceModel()"
      ],
      "execution_count": null,
      "outputs": []
    },
    {
      "cell_type": "markdown",
      "metadata": {
        "id": "xH5hrHDW6d9l"
      },
      "source": [
        "Let's check out the weights and biases of the model using `model.parameters`."
      ]
    },
    {
      "cell_type": "code",
      "metadata": {
        "colab": {
          "base_uri": "https://localhost:8080/"
        },
        "id": "8TIGnjii6d9l",
        "outputId": "dd13d9ba-a5cf-4b38-8bb2-1f16783dcf5e"
      },
      "source": [
        "list(model.parameters())"
      ],
      "execution_count": null,
      "outputs": [
        {
          "output_type": "execute_result",
          "data": {
            "text/plain": [
              "[Parameter containing:\n",
              " tensor([[-0.3222, -0.1884,  0.1263,  0.2204, -0.3862,  0.3678]],\n",
              "        requires_grad=True), Parameter containing:\n",
              " tensor([0.0228], requires_grad=True)]"
            ]
          },
          "metadata": {
            "tags": []
          },
          "execution_count": 103
        }
      ]
    },
    {
      "cell_type": "markdown",
      "metadata": {
        "id": "UW3kJuI06d9l"
      },
      "source": [
        "One final commit before we train the model."
      ]
    },
    {
      "cell_type": "code",
      "metadata": {
        "colab": {
          "base_uri": "https://localhost:8080/",
          "height": 86
        },
        "id": "zDI_o0WD6d9l",
        "outputId": "901f6fed-95b8-4708-963b-8faed51b6955"
      },
      "source": [
        "jovian.commit(project=project_name, environment=None)"
      ],
      "execution_count": null,
      "outputs": [
        {
          "output_type": "stream",
          "text": [
            "[jovian] Detected Colab notebook...\u001b[0m\n",
            "[jovian] Uploading colab notebook to Jovian...\u001b[0m\n",
            "[jovian] Committed successfully! https://jovian.ai/ddmasterdon/02-insurance-linear-regression\u001b[0m\n"
          ],
          "name": "stdout"
        },
        {
          "output_type": "execute_result",
          "data": {
            "application/vnd.google.colaboratory.intrinsic+json": {
              "type": "string"
            },
            "text/plain": [
              "'https://jovian.ai/ddmasterdon/02-insurance-linear-regression'"
            ]
          },
          "metadata": {
            "tags": []
          },
          "execution_count": 104
        }
      ]
    },
    {
      "cell_type": "markdown",
      "metadata": {
        "id": "vP8EURTy6d9m"
      },
      "source": [
        "## Step 4: Train the model to fit the data\n",
        "\n",
        "To train our model, we'll use the same `fit` function explained in the lecture. That's the benefit of defining a generic training loop - you can use it for any problem."
      ]
    },
    {
      "cell_type": "code",
      "metadata": {
        "id": "woTb_Ytp6d9m"
      },
      "source": [
        "def evaluate(model, val_loader):\n",
        "    outputs = [model.validation_step(batch) for batch in val_loader]\n",
        "    return model.validation_epoch_end(outputs)\n",
        "\n",
        "def fit(epochs, lr, model, train_loader, val_loader, opt_func=torch.optim.SGD):\n",
        "    history = []\n",
        "    optimizer = opt_func(model.parameters(), lr)\n",
        "    for epoch in range(epochs):\n",
        "        # Training Phase \n",
        "        for batch in train_loader:\n",
        "            loss = model.training_step(batch)\n",
        "            loss.backward()\n",
        "            optimizer.step()\n",
        "            optimizer.zero_grad()\n",
        "        # Validation phase\n",
        "        result = evaluate(model, val_loader)\n",
        "        model.epoch_end(epoch, result, epochs)\n",
        "        history.append(result)\n",
        "    return history"
      ],
      "execution_count": null,
      "outputs": []
    },
    {
      "cell_type": "markdown",
      "metadata": {
        "id": "usKDmUre6d9m"
      },
      "source": [
        "**Q: Use the `evaluate` function to calculate the loss on the validation set before training.**"
      ]
    },
    {
      "cell_type": "code",
      "metadata": {
        "colab": {
          "base_uri": "https://localhost:8080/"
        },
        "id": "L_OWnfJ-6d9n",
        "outputId": "e9c0f600-a468-40b3-e939-a7fc880fedcd"
      },
      "source": [
        "result = evaluate(model, val_loader) # Use the the evaluate function\n",
        "print(result)"
      ],
      "execution_count": null,
      "outputs": [
        {
          "output_type": "stream",
          "text": [
            "{'val_loss': 9176.318359375}\n"
          ],
          "name": "stdout"
        }
      ]
    },
    {
      "cell_type": "markdown",
      "metadata": {
        "id": "bk6qa78k6d9n"
      },
      "source": [
        "\n",
        "We are now ready to train the model. You may need to run the training loop many times, for different number of epochs and with different learning rates, to get a good result. Also, if your loss becomes too large (or `nan`), you may have to re-initialize the model by running the cell `model = InsuranceModel()`. Experiment with this for a while, and try to get to as low a loss as possible."
      ]
    },
    {
      "cell_type": "markdown",
      "metadata": {
        "id": "WmnVo37E6d9n"
      },
      "source": [
        "**Q: Train the model 4-5 times with different learning rates & for different number of epochs.**\n",
        "\n",
        "Hint: Vary learning rates by orders of 10 (e.g. `1e-2`, `1e-3`, `1e-4`, `1e-5`, `1e-6`) to figure out what works."
      ]
    },
    {
      "cell_type": "code",
      "metadata": {
        "colab": {
          "base_uri": "https://localhost:8080/"
        },
        "id": "djPwD8Gm6d9n",
        "outputId": "bca193a5-6ad7-45e5-fd24-e5d993a3bdcf"
      },
      "source": [
        "epochs = 5\n",
        "lr = 1e-2\n",
        "history1 = fit(epochs, lr, model, train_loader, val_loader)"
      ],
      "execution_count": null,
      "outputs": [
        {
          "output_type": "stream",
          "text": [
            "Epoch [5], val_loss: 1064176.5000\n"
          ],
          "name": "stdout"
        }
      ]
    },
    {
      "cell_type": "code",
      "metadata": {
        "colab": {
          "base_uri": "https://localhost:8080/"
        },
        "id": "9xEzB0DZ6d9o",
        "outputId": "a03ab25d-8ead-4031-a89a-088cfe15eefc"
      },
      "source": [
        "epochs = 10\n",
        "lr = 1e-3\n",
        "history2 = fit(epochs, lr, model, train_loader, val_loader)"
      ],
      "execution_count": null,
      "outputs": [
        {
          "output_type": "stream",
          "text": [
            "Epoch [10], val_loss: 51976.3594\n"
          ],
          "name": "stdout"
        }
      ]
    },
    {
      "cell_type": "code",
      "metadata": {
        "colab": {
          "base_uri": "https://localhost:8080/"
        },
        "id": "1n3DGCcu6d9o",
        "outputId": "4df4674b-410c-4c33-a435-7bb577c1d2f1"
      },
      "source": [
        "epochs = 5\n",
        "lr = 1e-4\n",
        "history3 = fit(epochs, lr, model, train_loader, val_loader)"
      ],
      "execution_count": null,
      "outputs": [
        {
          "output_type": "stream",
          "text": [
            "Epoch [5], val_loss: 22100.5332\n"
          ],
          "name": "stdout"
        }
      ]
    },
    {
      "cell_type": "code",
      "metadata": {
        "colab": {
          "base_uri": "https://localhost:8080/"
        },
        "id": "DSFS5N8e6d9o",
        "outputId": "69f8cc2e-783f-40ab-f689-a34ded6d33b5"
      },
      "source": [
        "epochs = 10\n",
        "lr = 1e-5\n",
        "history4 = fit(epochs, lr, model, train_loader, val_loader)"
      ],
      "execution_count": null,
      "outputs": [
        {
          "output_type": "stream",
          "text": [
            "Epoch [10], val_loss: 1231.8412\n"
          ],
          "name": "stdout"
        }
      ]
    },
    {
      "cell_type": "code",
      "metadata": {
        "colab": {
          "base_uri": "https://localhost:8080/"
        },
        "id": "TP6zcXX46d9o",
        "outputId": "576f04cd-a833-4a86-a9e0-1b59dbb1394a"
      },
      "source": [
        "epochs = 10\n",
        "lr = 1e-6\n",
        "history5 = fit(epochs, lr, model, train_loader, val_loader)"
      ],
      "execution_count": null,
      "outputs": [
        {
          "output_type": "stream",
          "text": [
            "Epoch [10], val_loss: 63.7906\n"
          ],
          "name": "stdout"
        }
      ]
    },
    {
      "cell_type": "markdown",
      "metadata": {
        "id": "kQx7zBsE6d9p"
      },
      "source": [
        "**Q: What is the final validation loss of your model?**"
      ]
    },
    {
      "cell_type": "code",
      "metadata": {
        "id": "pkD85Q5r6d9p"
      },
      "source": [
        "val_loss = 63.7906"
      ],
      "execution_count": null,
      "outputs": []
    },
    {
      "cell_type": "markdown",
      "metadata": {
        "id": "d1Vuvwl-6d9p"
      },
      "source": [
        "Let's log the final validation loss to Jovian and commit the notebook"
      ]
    },
    {
      "cell_type": "code",
      "metadata": {
        "colab": {
          "base_uri": "https://localhost:8080/"
        },
        "id": "v4uBiYhx6d9p",
        "outputId": "5d999448-2864-4fe5-8471-c2cb99fab273"
      },
      "source": [
        "jovian.log_metrics(val_loss=val_loss)"
      ],
      "execution_count": null,
      "outputs": [
        {
          "output_type": "stream",
          "text": [
            "[jovian] Metrics logged.\u001b[0m\n"
          ],
          "name": "stdout"
        }
      ]
    },
    {
      "cell_type": "code",
      "metadata": {
        "colab": {
          "base_uri": "https://localhost:8080/",
          "height": 103
        },
        "id": "wGfEdlcc6d9q",
        "outputId": "d6096951-7bd3-4efe-de59-612f3824169f"
      },
      "source": [
        "jovian.commit(project=project_name, environment=None)"
      ],
      "execution_count": null,
      "outputs": [
        {
          "output_type": "stream",
          "text": [
            "[jovian] Detected Colab notebook...\u001b[0m\n",
            "[jovian] Uploading colab notebook to Jovian...\u001b[0m\n",
            "[jovian] Attaching records (metrics, hyperparameters, dataset etc.)\u001b[0m\n",
            "[jovian] Committed successfully! https://jovian.ai/ddmasterdon/02-insurance-linear-regression\u001b[0m\n"
          ],
          "name": "stdout"
        },
        {
          "output_type": "execute_result",
          "data": {
            "application/vnd.google.colaboratory.intrinsic+json": {
              "type": "string"
            },
            "text/plain": [
              "'https://jovian.ai/ddmasterdon/02-insurance-linear-regression'"
            ]
          },
          "metadata": {
            "tags": []
          },
          "execution_count": 114
        }
      ]
    },
    {
      "cell_type": "markdown",
      "metadata": {
        "id": "ECxFcV8t6d9q"
      },
      "source": [
        "Now scroll back up, re-initialize the model, and try different set of values for batch size, number of epochs, learning rate etc. Commit each experiment and use the \"Compare\" and \"View Diff\" options on Jovian to compare the different results."
      ]
    },
    {
      "cell_type": "markdown",
      "metadata": {
        "id": "2bUHXcou6d9q"
      },
      "source": [
        "## Step 5: Make predictions using the trained model\n",
        "\n",
        "**Q: Complete the following function definition to make predictions on a single input**"
      ]
    },
    {
      "cell_type": "code",
      "metadata": {
        "id": "sRMr6J-F6d9q"
      },
      "source": [
        "def predict_single(input, target, model):\n",
        "    inputs = input.unsqueeze(0)\n",
        "    predictions = model(inputs)                # fill this\n",
        "    prediction = predictions[0].detach()\n",
        "    print(\"Input:\", input)\n",
        "    print(\"Target:\", target)\n",
        "    print(\"Prediction:\", prediction)"
      ],
      "execution_count": null,
      "outputs": []
    },
    {
      "cell_type": "code",
      "metadata": {
        "colab": {
          "base_uri": "https://localhost:8080/"
        },
        "id": "ZxwZ-aey6d9r",
        "outputId": "6e10385b-f286-4f36-b953-0071c4263b10"
      },
      "source": [
        "input, target = val_ds[0]\n",
        "predict_single(input, target, model)"
      ],
      "execution_count": null,
      "outputs": [
        {
          "output_type": "stream",
          "text": [
            "Input: tensor([   60.0000,     0.0000,    24.0350,     0.0000,     0.0000, 14183.3076])\n",
            "Target: tensor([14183.3076])\n",
            "Prediction: tensor([14111.7461])\n"
          ],
          "name": "stdout"
        }
      ]
    },
    {
      "cell_type": "code",
      "metadata": {
        "colab": {
          "base_uri": "https://localhost:8080/"
        },
        "id": "c-TpdVPO6d9r",
        "outputId": "9586cbfe-f046-4871-dde7-be81e4798b80"
      },
      "source": [
        "input, target = val_ds[10]\n",
        "predict_single(input, target, model)"
      ],
      "execution_count": null,
      "outputs": [
        {
          "output_type": "stream",
          "text": [
            "Input: tensor([3.5000e+01, 0.0000e+00, 3.4105e+01, 3.0000e+00, 1.0000e+00, 4.3582e+04])\n",
            "Target: tensor([43581.9336])\n",
            "Prediction: tensor([43423.8008])\n"
          ],
          "name": "stdout"
        }
      ]
    },
    {
      "cell_type": "code",
      "metadata": {
        "id": "VvZyT6it6d9r"
      },
      "source": [
        "input, target = val_ds[23]\n",
        "predict_single(input, target, model)"
      ],
      "execution_count": null,
      "outputs": []
    },
    {
      "cell_type": "markdown",
      "metadata": {
        "id": "fZhLFj-c6d9r"
      },
      "source": [
        "Are you happy with your model's predictions? Try to improve them further."
      ]
    },
    {
      "cell_type": "markdown",
      "metadata": {
        "id": "1Qp_vwIY6d9s"
      },
      "source": [
        "## (Optional) Step 6: Try another dataset & blog about it\n",
        "\n",
        "While this last step is optional for the submission of your assignment, we highly recommend that you do it. Try to replicate this notebook for a different linear regression or logistic regression problem. This will help solidify your understanding, and give you a chance to differentiate the generic patterns in machine learning from problem-specific details.You can use one of these starer notebooks (just change the dataset):\n",
        "\n",
        "- Linear regression (minimal): https://jovian.ai/aakashns/housing-linear-minimal\n",
        "- Logistic regression (minimal): https://jovian.ai/aakashns/mnist-logistic-minimal\n",
        "\n",
        "Here are some sources to find good datasets:\n",
        "\n",
        "- https://lionbridge.ai/datasets/10-open-datasets-for-linear-regression/\n",
        "- https://www.kaggle.com/rtatman/datasets-for-regression-analysis\n",
        "- https://archive.ics.uci.edu/ml/datasets.php?format=&task=reg&att=&area=&numAtt=&numIns=&type=&sort=nameUp&view=table\n",
        "- https://people.sc.fsu.edu/~jburkardt/datasets/regression/regression.html\n",
        "- https://archive.ics.uci.edu/ml/datasets/wine+quality\n",
        "- https://pytorch.org/docs/stable/torchvision/datasets.html\n",
        "\n",
        "We also recommend that you write a blog about your approach to the problem. Here is a suggested structure for your post (feel free to experiment with it):\n",
        "\n",
        "- Interesting title & subtitle\n",
        "- Overview of what the blog covers (which dataset, linear regression or logistic regression, intro to PyTorch)\n",
        "- Downloading & exploring the data\n",
        "- Preparing the data for training\n",
        "- Creating a model using PyTorch\n",
        "- Training the model to fit the data\n",
        "- Your thoughts on how to experiment with different hyperparmeters to reduce loss\n",
        "- Making predictions using the model\n",
        "\n",
        "As with the previous assignment, you can [embed Juptyer notebook cells & outputs from Jovian](https://medium.com/jovianml/share-and-embed-jupyter-notebooks-online-with-jovian-ml-df709a03064e) into your blog. \n",
        "\n",
        "Don't forget to share your work on the forum: https://jovian.ai/forum/t/linear-regression-and-logistic-regression-notebooks-and-blog-posts/14039"
      ]
    },
    {
      "cell_type": "code",
      "metadata": {
        "id": "cg_ovD016d9s",
        "outputId": "403f39bf-8b98-4d4d-a3f5-863c126ce49a"
      },
      "source": [
        "jovian.commit(project=project_name, environment=None)\n",
        "jovian.commit(project=project_name, environment=None) # try again, kaggle fails sometimes"
      ],
      "execution_count": null,
      "outputs": [
        {
          "output_type": "display_data",
          "data": {
            "application/javascript": [
              "window.require && require([\"base/js/namespace\"],function(Jupyter){Jupyter.notebook.save_checkpoint()})"
            ],
            "text/plain": [
              "<IPython.core.display.Javascript object>"
            ]
          },
          "metadata": {
            "tags": []
          }
        },
        {
          "output_type": "stream",
          "text": [
            "[jovian] Attempting to save notebook..\u001b[0m\n",
            "[jovian] Updating notebook \"aakashns/02-insurance-linear-regression\" on https://jovian.ai/\u001b[0m\n",
            "[jovian] Uploading notebook..\u001b[0m\n",
            "[jovian] Committed successfully! https://jovian.ai/aakashns/02-insurance-linear-regression\u001b[0m\n"
          ],
          "name": "stdout"
        },
        {
          "output_type": "display_data",
          "data": {
            "application/javascript": [
              "window.require && require([\"base/js/namespace\"],function(Jupyter){Jupyter.notebook.save_checkpoint()})"
            ],
            "text/plain": [
              "<IPython.core.display.Javascript object>"
            ]
          },
          "metadata": {
            "tags": []
          }
        },
        {
          "output_type": "stream",
          "text": [
            "[jovian] Attempting to save notebook..\u001b[0m\n"
          ],
          "name": "stdout"
        }
      ]
    },
    {
      "cell_type": "code",
      "metadata": {
        "id": "aCyjr_ZP6d9s"
      },
      "source": [
        ""
      ],
      "execution_count": null,
      "outputs": []
    }
  ]
}